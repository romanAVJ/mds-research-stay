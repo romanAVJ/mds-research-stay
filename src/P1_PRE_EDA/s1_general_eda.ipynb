{
 "cells": [
  {
   "cell_type": "markdown",
   "metadata": {},
   "source": [
    "# General EDA of SHIF Data\n",
    "\n",
    "@roman\n",
    "\n",
    "4 June, 2024"
   ]
  },
  {
   "cell_type": "markdown",
   "metadata": {},
   "source": [
    "---\n",
    "# Settings"
   ]
  },
  {
   "cell_type": "code",
   "execution_count": 1,
   "metadata": {},
   "outputs": [],
   "source": [
    "import pandas as pd\n",
    "import geopandas as gpd\n",
    "import numpy as np\n",
    "import matplotlib.pyplot as plt\n",
    "import seaborn as sns"
   ]
  },
  {
   "cell_type": "code",
   "execution_count": 2,
   "metadata": {},
   "outputs": [],
   "source": [
    "# Settings\n",
    "# show 100 columns in pandas\n",
    "pd.set_option('display.max_columns', 100)"
   ]
  },
  {
   "cell_type": "markdown",
   "metadata": {},
   "source": [
    "---\n",
    "# Data"
   ]
  },
  {
   "cell_type": "code",
   "execution_count": 3,
   "metadata": {},
   "outputs": [
    {
     "data": {
      "text/html": [
       "<div>\n",
       "<style scoped>\n",
       "    .dataframe tbody tr th:only-of-type {\n",
       "        vertical-align: middle;\n",
       "    }\n",
       "\n",
       "    .dataframe tbody tr th {\n",
       "        vertical-align: top;\n",
       "    }\n",
       "\n",
       "    .dataframe thead th {\n",
       "        text-align: right;\n",
       "    }\n",
       "</style>\n",
       "<table border=\"1\" class=\"dataframe\">\n",
       "  <thead>\n",
       "    <tr style=\"text-align: right;\">\n",
       "      <th></th>\n",
       "      <th>VALOR_FISICO_CONSTRUCCION</th>\n",
       "      <th>ID_AVALUO</th>\n",
       "      <th>FECHA_AVALUO</th>\n",
       "      <th>COLONIA</th>\n",
       "      <th>ID_CLASE_INMUEBLE</th>\n",
       "      <th>ID_TIPO_INMUEBLE</th>\n",
       "      <th>CONSERVACION</th>\n",
       "      <th>ELEVADOR</th>\n",
       "      <th>NIVELES</th>\n",
       "      <th>CVE_REF_PROXIMIDAD_URBANA</th>\n",
       "      <th>CVE_NIVEL_EQUIPAMIENTO_URBANO</th>\n",
       "      <th>VALOR_MERCADO</th>\n",
       "      <th>VALOR_CONCLUIDO_TOTAL</th>\n",
       "      <th>NIVEL</th>\n",
       "      <th>UNIDADES_RENTABLES</th>\n",
       "      <th>EDAD_ANIOS</th>\n",
       "      <th>PRECIO M2</th>\n",
       "      <th>VIDA_UTIL_REMANENTE</th>\n",
       "      <th>CVE_CLASIFICACION_ZONA</th>\n",
       "      <th>CVE_VIGILANCIA</th>\n",
       "      <th>REGIMEN PROPIEDAD</th>\n",
       "      <th>TIPO_VIALIDAD</th>\n",
       "      <th>NIVEL_INFRAESTRUCTURA</th>\n",
       "      <th>Table Names-4</th>\n",
       "      <th>CUENTA_PREDIAL</th>\n",
       "      <th>ID_UV</th>\n",
       "      <th>ID_MUNICIPIO</th>\n",
       "      <th>ID_ENTIDAD_F</th>\n",
       "      <th>CLAVE_CONTROLADOR</th>\n",
       "      <th>CLAVE_VALUADOR</th>\n",
       "      <th>ID_OTORGANTE</th>\n",
       "      <th>CP</th>\n",
       "      <th>LATITUD</th>\n",
       "      <th>LONGITUD</th>\n",
       "      <th>RECAMARAS</th>\n",
       "      <th>BANOS</th>\n",
       "      <th>MEDIO BANOS</th>\n",
       "      <th>ESTACIONAMIENTO</th>\n",
       "      <th>SUPERFICIE_TERRENO</th>\n",
       "      <th>SUPERFICIE_CONSTRUIDA</th>\n",
       "      <th>SUPERFICIE_ACCESORIA</th>\n",
       "      <th>SUPERFICIE_VENDIBLE</th>\n",
       "      <th>VALOR_FISICO_TERRENO_M2</th>\n",
       "    </tr>\n",
       "  </thead>\n",
       "  <tbody>\n",
       "    <tr>\n",
       "      <th>0</th>\n",
       "      <td>425901.00</td>\n",
       "      <td>30001190710390500</td>\n",
       "      <td>2019-09-06</td>\n",
       "      <td>SD</td>\n",
       "      <td>2</td>\n",
       "      <td>2</td>\n",
       "      <td>4.0</td>\n",
       "      <td>0.0</td>\n",
       "      <td>1</td>\n",
       "      <td>5</td>\n",
       "      <td>1</td>\n",
       "      <td>720691</td>\n",
       "      <td>721000</td>\n",
       "      <td>3</td>\n",
       "      <td>1</td>\n",
       "      <td>0</td>\n",
       "      <td>8633</td>\n",
       "      <td>50</td>\n",
       "      <td>2</td>\n",
       "      <td>NaN</td>\n",
       "      <td>PRIVADA INDIVIDUAL</td>\n",
       "      <td>NaN</td>\n",
       "      <td>NaN</td>\n",
       "      <td>None</td>\n",
       "      <td>NaN</td>\n",
       "      <td>30001</td>\n",
       "      <td>27</td>\n",
       "      <td>7</td>\n",
       "      <td>302349</td>\n",
       "      <td>403733</td>\n",
       "      <td>30001</td>\n",
       "      <td>29160</td>\n",
       "      <td>16.665061</td>\n",
       "      <td>-92.949447</td>\n",
       "      <td>2</td>\n",
       "      <td>1</td>\n",
       "      <td>0</td>\n",
       "      <td>1</td>\n",
       "      <td>267</td>\n",
       "      <td>83</td>\n",
       "      <td>0</td>\n",
       "      <td>83</td>\n",
       "      <td>490.000000</td>\n",
       "    </tr>\n",
       "    <tr>\n",
       "      <th>1</th>\n",
       "      <td>1035475.65</td>\n",
       "      <td>9067200711805890</td>\n",
       "      <td>2020-04-27</td>\n",
       "      <td>SD</td>\n",
       "      <td>4</td>\n",
       "      <td>2</td>\n",
       "      <td>4.0</td>\n",
       "      <td>0.0</td>\n",
       "      <td>1</td>\n",
       "      <td>5</td>\n",
       "      <td>1</td>\n",
       "      <td>1841577</td>\n",
       "      <td>1842000</td>\n",
       "      <td>3</td>\n",
       "      <td>2</td>\n",
       "      <td>15</td>\n",
       "      <td>11091</td>\n",
       "      <td>55</td>\n",
       "      <td>3</td>\n",
       "      <td>1.0</td>\n",
       "      <td>PRIVADA INDIVIDUAL</td>\n",
       "      <td>3.0</td>\n",
       "      <td>NaN</td>\n",
       "      <td>None</td>\n",
       "      <td>NaN</td>\n",
       "      <td>9067</td>\n",
       "      <td>107</td>\n",
       "      <td>7</td>\n",
       "      <td>1844523</td>\n",
       "      <td>408526</td>\n",
       "      <td>40012</td>\n",
       "      <td>30535</td>\n",
       "      <td>16.137817</td>\n",
       "      <td>-93.000447</td>\n",
       "      <td>3</td>\n",
       "      <td>1</td>\n",
       "      <td>0</td>\n",
       "      <td>3</td>\n",
       "      <td>620</td>\n",
       "      <td>166</td>\n",
       "      <td>0</td>\n",
       "      <td>166</td>\n",
       "      <td>1142.000000</td>\n",
       "    </tr>\n",
       "    <tr>\n",
       "      <th>2</th>\n",
       "      <td>491898.00</td>\n",
       "      <td>9067200311678970</td>\n",
       "      <td>2020-01-20</td>\n",
       "      <td>SD</td>\n",
       "      <td>4</td>\n",
       "      <td>2</td>\n",
       "      <td>4.0</td>\n",
       "      <td>0.0</td>\n",
       "      <td>1</td>\n",
       "      <td>5</td>\n",
       "      <td>1</td>\n",
       "      <td>1393971</td>\n",
       "      <td>1394000</td>\n",
       "      <td>3</td>\n",
       "      <td>1</td>\n",
       "      <td>9</td>\n",
       "      <td>18703</td>\n",
       "      <td>61</td>\n",
       "      <td>3</td>\n",
       "      <td>1.0</td>\n",
       "      <td>PRIVADA INDIVIDUAL</td>\n",
       "      <td>2.0</td>\n",
       "      <td>NaN</td>\n",
       "      <td>None</td>\n",
       "      <td>NaN</td>\n",
       "      <td>9067</td>\n",
       "      <td>8</td>\n",
       "      <td>3</td>\n",
       "      <td>408047</td>\n",
       "      <td>1641235</td>\n",
       "      <td>40012</td>\n",
       "      <td>23570</td>\n",
       "      <td>23.593706</td>\n",
       "      <td>-109.588844</td>\n",
       "      <td>1</td>\n",
       "      <td>1</td>\n",
       "      <td>0</td>\n",
       "      <td>2</td>\n",
       "      <td>561</td>\n",
       "      <td>74</td>\n",
       "      <td>0</td>\n",
       "      <td>74</td>\n",
       "      <td>1278.900000</td>\n",
       "    </tr>\n",
       "    <tr>\n",
       "      <th>3</th>\n",
       "      <td>1611371.52</td>\n",
       "      <td>090682009R0225150</td>\n",
       "      <td>2020-05-27</td>\n",
       "      <td>SD</td>\n",
       "      <td>4</td>\n",
       "      <td>2</td>\n",
       "      <td>4.0</td>\n",
       "      <td>1.0</td>\n",
       "      <td>4</td>\n",
       "      <td>1</td>\n",
       "      <td>1</td>\n",
       "      <td>4305275</td>\n",
       "      <td>4305000</td>\n",
       "      <td>3</td>\n",
       "      <td>1</td>\n",
       "      <td>25</td>\n",
       "      <td>12353</td>\n",
       "      <td>45</td>\n",
       "      <td>4</td>\n",
       "      <td>NaN</td>\n",
       "      <td>PRIVADA INDIVIDUAL</td>\n",
       "      <td>NaN</td>\n",
       "      <td>NaN</td>\n",
       "      <td>None</td>\n",
       "      <td>NaN</td>\n",
       "      <td>9068</td>\n",
       "      <td>3</td>\n",
       "      <td>9</td>\n",
       "      <td>1742315</td>\n",
       "      <td>1400027</td>\n",
       "      <td>30001</td>\n",
       "      <td>4600</td>\n",
       "      <td>19.310875</td>\n",
       "      <td>-99.158103</td>\n",
       "      <td>2</td>\n",
       "      <td>1</td>\n",
       "      <td>0</td>\n",
       "      <td>0</td>\n",
       "      <td>143</td>\n",
       "      <td>348</td>\n",
       "      <td>0</td>\n",
       "      <td>348</td>\n",
       "      <td>8918.000000</td>\n",
       "    </tr>\n",
       "    <tr>\n",
       "      <th>4</th>\n",
       "      <td>697726.22</td>\n",
       "      <td>090832021R0653330</td>\n",
       "      <td>2020-12-08</td>\n",
       "      <td>SD</td>\n",
       "      <td>3</td>\n",
       "      <td>2</td>\n",
       "      <td>4.0</td>\n",
       "      <td>2.0</td>\n",
       "      <td>2</td>\n",
       "      <td>2</td>\n",
       "      <td>1</td>\n",
       "      <td>826000</td>\n",
       "      <td>829000</td>\n",
       "      <td>3</td>\n",
       "      <td>1</td>\n",
       "      <td>20</td>\n",
       "      <td>5954</td>\n",
       "      <td>40</td>\n",
       "      <td>3</td>\n",
       "      <td>NaN</td>\n",
       "      <td>PRIVADA INDIVIDUAL</td>\n",
       "      <td>NaN</td>\n",
       "      <td>NaN</td>\n",
       "      <td>None</td>\n",
       "      <td>NaN</td>\n",
       "      <td>9083</td>\n",
       "      <td>51</td>\n",
       "      <td>21</td>\n",
       "      <td>1844210</td>\n",
       "      <td>1639485</td>\n",
       "      <td>30001</td>\n",
       "      <td>74585</td>\n",
       "      <td>18.510228</td>\n",
       "      <td>-98.609661</td>\n",
       "      <td>4</td>\n",
       "      <td>2</td>\n",
       "      <td>1</td>\n",
       "      <td>0</td>\n",
       "      <td>93</td>\n",
       "      <td>139</td>\n",
       "      <td>0</td>\n",
       "      <td>139</td>\n",
       "      <td>1398.000000</td>\n",
       "    </tr>\n",
       "    <tr>\n",
       "      <th>...</th>\n",
       "      <td>...</td>\n",
       "      <td>...</td>\n",
       "      <td>...</td>\n",
       "      <td>...</td>\n",
       "      <td>...</td>\n",
       "      <td>...</td>\n",
       "      <td>...</td>\n",
       "      <td>...</td>\n",
       "      <td>...</td>\n",
       "      <td>...</td>\n",
       "      <td>...</td>\n",
       "      <td>...</td>\n",
       "      <td>...</td>\n",
       "      <td>...</td>\n",
       "      <td>...</td>\n",
       "      <td>...</td>\n",
       "      <td>...</td>\n",
       "      <td>...</td>\n",
       "      <td>...</td>\n",
       "      <td>...</td>\n",
       "      <td>...</td>\n",
       "      <td>...</td>\n",
       "      <td>...</td>\n",
       "      <td>...</td>\n",
       "      <td>...</td>\n",
       "      <td>...</td>\n",
       "      <td>...</td>\n",
       "      <td>...</td>\n",
       "      <td>...</td>\n",
       "      <td>...</td>\n",
       "      <td>...</td>\n",
       "      <td>...</td>\n",
       "      <td>...</td>\n",
       "      <td>...</td>\n",
       "      <td>...</td>\n",
       "      <td>...</td>\n",
       "      <td>...</td>\n",
       "      <td>...</td>\n",
       "      <td>...</td>\n",
       "      <td>...</td>\n",
       "      <td>...</td>\n",
       "      <td>...</td>\n",
       "      <td>...</td>\n",
       "    </tr>\n",
       "    <tr>\n",
       "      <th>1048570</th>\n",
       "      <td>459452.28</td>\n",
       "      <td>9069231510399560</td>\n",
       "      <td>2023-09-22</td>\n",
       "      <td>CONJUNTO URBANO SAN BUENAVENTURA</td>\n",
       "      <td>3</td>\n",
       "      <td>3</td>\n",
       "      <td>4.0</td>\n",
       "      <td>2.0</td>\n",
       "      <td>2</td>\n",
       "      <td>2</td>\n",
       "      <td>4</td>\n",
       "      <td>922424</td>\n",
       "      <td>922000</td>\n",
       "      <td>3</td>\n",
       "      <td>4</td>\n",
       "      <td>22</td>\n",
       "      <td>12500</td>\n",
       "      <td>38</td>\n",
       "      <td>5</td>\n",
       "      <td>1.0</td>\n",
       "      <td>PRIVADA COLECTIVA</td>\n",
       "      <td>2.0</td>\n",
       "      <td>NaN</td>\n",
       "      <td>None</td>\n",
       "      <td>NaN</td>\n",
       "      <td>9069</td>\n",
       "      <td>39</td>\n",
       "      <td>15</td>\n",
       "      <td>1100411</td>\n",
       "      <td>2300064</td>\n",
       "      <td>30001</td>\n",
       "      <td>56536</td>\n",
       "      <td>19.309292</td>\n",
       "      <td>-98.858728</td>\n",
       "      <td>2</td>\n",
       "      <td>1</td>\n",
       "      <td>0</td>\n",
       "      <td>1</td>\n",
       "      <td>67</td>\n",
       "      <td>73</td>\n",
       "      <td>0</td>\n",
       "      <td>73</td>\n",
       "      <td>3822.313433</td>\n",
       "    </tr>\n",
       "    <tr>\n",
       "      <th>1048571</th>\n",
       "      <td>296946.00</td>\n",
       "      <td>9068231510776010</td>\n",
       "      <td>2023-09-12</td>\n",
       "      <td>CONJ HORIZONTAL RANCHO LA PALMA III</td>\n",
       "      <td>3</td>\n",
       "      <td>3</td>\n",
       "      <td>4.0</td>\n",
       "      <td>2.0</td>\n",
       "      <td>2</td>\n",
       "      <td>2</td>\n",
       "      <td>4</td>\n",
       "      <td>630000</td>\n",
       "      <td>630000</td>\n",
       "      <td>3</td>\n",
       "      <td>1</td>\n",
       "      <td>27</td>\n",
       "      <td>9929</td>\n",
       "      <td>33</td>\n",
       "      <td>5</td>\n",
       "      <td>1.0</td>\n",
       "      <td>PRIVADA COLECTIVA</td>\n",
       "      <td>2.0</td>\n",
       "      <td>NaN</td>\n",
       "      <td>None</td>\n",
       "      <td>NaN</td>\n",
       "      <td>9068</td>\n",
       "      <td>20</td>\n",
       "      <td>15</td>\n",
       "      <td>1844743</td>\n",
       "      <td>1300995</td>\n",
       "      <td>30001</td>\n",
       "      <td>55717</td>\n",
       "      <td>19.645500</td>\n",
       "      <td>-99.121889</td>\n",
       "      <td>2</td>\n",
       "      <td>1</td>\n",
       "      <td>0</td>\n",
       "      <td>1</td>\n",
       "      <td>35</td>\n",
       "      <td>63</td>\n",
       "      <td>0</td>\n",
       "      <td>63</td>\n",
       "      <td>4652.571429</td>\n",
       "    </tr>\n",
       "    <tr>\n",
       "      <th>1048572</th>\n",
       "      <td>295328.25</td>\n",
       "      <td>9068231510774060</td>\n",
       "      <td>2023-09-01</td>\n",
       "      <td>CONJ URB COFRADIA III</td>\n",
       "      <td>3</td>\n",
       "      <td>3</td>\n",
       "      <td>4.0</td>\n",
       "      <td>2.0</td>\n",
       "      <td>1</td>\n",
       "      <td>2</td>\n",
       "      <td>4</td>\n",
       "      <td>730000</td>\n",
       "      <td>730000</td>\n",
       "      <td>3</td>\n",
       "      <td>4</td>\n",
       "      <td>20</td>\n",
       "      <td>14705</td>\n",
       "      <td>40</td>\n",
       "      <td>5</td>\n",
       "      <td>1.0</td>\n",
       "      <td>PRIVADA COLECTIVA</td>\n",
       "      <td>2.0</td>\n",
       "      <td>NaN</td>\n",
       "      <td>None</td>\n",
       "      <td>NaN</td>\n",
       "      <td>9068</td>\n",
       "      <td>121</td>\n",
       "      <td>15</td>\n",
       "      <td>1844743</td>\n",
       "      <td>1300995</td>\n",
       "      <td>30001</td>\n",
       "      <td>54715</td>\n",
       "      <td>19.698444</td>\n",
       "      <td>-99.218722</td>\n",
       "      <td>2</td>\n",
       "      <td>1</td>\n",
       "      <td>0</td>\n",
       "      <td>1</td>\n",
       "      <td>41</td>\n",
       "      <td>49</td>\n",
       "      <td>0</td>\n",
       "      <td>49</td>\n",
       "      <td>9217.247561</td>\n",
       "    </tr>\n",
       "    <tr>\n",
       "      <th>1048573</th>\n",
       "      <td>400387.80</td>\n",
       "      <td>9081231510244250</td>\n",
       "      <td>2023-09-06</td>\n",
       "      <td>CONJUNTO URBANO BULEVARES DEL LAGO ETAPAS VII ...</td>\n",
       "      <td>3</td>\n",
       "      <td>3</td>\n",
       "      <td>4.0</td>\n",
       "      <td>2.0</td>\n",
       "      <td>2</td>\n",
       "      <td>2</td>\n",
       "      <td>4</td>\n",
       "      <td>1019705</td>\n",
       "      <td>1020000</td>\n",
       "      <td>3</td>\n",
       "      <td>4</td>\n",
       "      <td>13</td>\n",
       "      <td>15093</td>\n",
       "      <td>47</td>\n",
       "      <td>5</td>\n",
       "      <td>1.0</td>\n",
       "      <td>PRIVADA COLECTIVA</td>\n",
       "      <td>2.0</td>\n",
       "      <td>NaN</td>\n",
       "      <td>None</td>\n",
       "      <td>NaN</td>\n",
       "      <td>9081</td>\n",
       "      <td>60</td>\n",
       "      <td>15</td>\n",
       "      <td>1844797</td>\n",
       "      <td>1101765</td>\n",
       "      <td>30001</td>\n",
       "      <td>54473</td>\n",
       "      <td>19.609017</td>\n",
       "      <td>-99.274625</td>\n",
       "      <td>2</td>\n",
       "      <td>1</td>\n",
       "      <td>0</td>\n",
       "      <td>1</td>\n",
       "      <td>60</td>\n",
       "      <td>67</td>\n",
       "      <td>0</td>\n",
       "      <td>67</td>\n",
       "      <td>9486.501167</td>\n",
       "    </tr>\n",
       "    <tr>\n",
       "      <th>1048574</th>\n",
       "      <td>299196.80</td>\n",
       "      <td>5010231510399200</td>\n",
       "      <td>2023-09-18</td>\n",
       "      <td>COLONIA MISIONES II</td>\n",
       "      <td>3</td>\n",
       "      <td>3</td>\n",
       "      <td>4.0</td>\n",
       "      <td>2.0</td>\n",
       "      <td>2</td>\n",
       "      <td>2</td>\n",
       "      <td>4</td>\n",
       "      <td>648614</td>\n",
       "      <td>649000</td>\n",
       "      <td>3</td>\n",
       "      <td>1</td>\n",
       "      <td>26</td>\n",
       "      <td>15249</td>\n",
       "      <td>34</td>\n",
       "      <td>5</td>\n",
       "      <td>1.0</td>\n",
       "      <td>PRIVADA COLECTIVA</td>\n",
       "      <td>2.0</td>\n",
       "      <td>NaN</td>\n",
       "      <td>None</td>\n",
       "      <td>NaN</td>\n",
       "      <td>5010</td>\n",
       "      <td>24</td>\n",
       "      <td>15</td>\n",
       "      <td>1300748</td>\n",
       "      <td>1300565</td>\n",
       "      <td>30001</td>\n",
       "      <td>54800</td>\n",
       "      <td>19.657361</td>\n",
       "      <td>-99.164000</td>\n",
       "      <td>2</td>\n",
       "      <td>1</td>\n",
       "      <td>0</td>\n",
       "      <td>1</td>\n",
       "      <td>58</td>\n",
       "      <td>42</td>\n",
       "      <td>0</td>\n",
       "      <td>42</td>\n",
       "      <td>4048.000000</td>\n",
       "    </tr>\n",
       "  </tbody>\n",
       "</table>\n",
       "<p>1048575 rows × 43 columns</p>\n",
       "</div>"
      ],
      "text/plain": [
       "         VALOR_FISICO_CONSTRUCCION          ID_AVALUO FECHA_AVALUO  \\\n",
       "0                        425901.00  30001190710390500   2019-09-06   \n",
       "1                       1035475.65   9067200711805890   2020-04-27   \n",
       "2                        491898.00   9067200311678970   2020-01-20   \n",
       "3                       1611371.52  090682009R0225150   2020-05-27   \n",
       "4                        697726.22  090832021R0653330   2020-12-08   \n",
       "...                            ...                ...          ...   \n",
       "1048570                  459452.28   9069231510399560   2023-09-22   \n",
       "1048571                  296946.00   9068231510776010   2023-09-12   \n",
       "1048572                  295328.25   9068231510774060   2023-09-01   \n",
       "1048573                  400387.80   9081231510244250   2023-09-06   \n",
       "1048574                  299196.80   5010231510399200   2023-09-18   \n",
       "\n",
       "                                                   COLONIA  ID_CLASE_INMUEBLE  \\\n",
       "0                                                       SD                  2   \n",
       "1                                                       SD                  4   \n",
       "2                                                       SD                  4   \n",
       "3                                                       SD                  4   \n",
       "4                                                       SD                  3   \n",
       "...                                                    ...                ...   \n",
       "1048570                   CONJUNTO URBANO SAN BUENAVENTURA                  3   \n",
       "1048571                CONJ HORIZONTAL RANCHO LA PALMA III                  3   \n",
       "1048572                              CONJ URB COFRADIA III                  3   \n",
       "1048573  CONJUNTO URBANO BULEVARES DEL LAGO ETAPAS VII ...                  3   \n",
       "1048574                                COLONIA MISIONES II                  3   \n",
       "\n",
       "         ID_TIPO_INMUEBLE  CONSERVACION  ELEVADOR  NIVELES  \\\n",
       "0                       2           4.0       0.0        1   \n",
       "1                       2           4.0       0.0        1   \n",
       "2                       2           4.0       0.0        1   \n",
       "3                       2           4.0       1.0        4   \n",
       "4                       2           4.0       2.0        2   \n",
       "...                   ...           ...       ...      ...   \n",
       "1048570                 3           4.0       2.0        2   \n",
       "1048571                 3           4.0       2.0        2   \n",
       "1048572                 3           4.0       2.0        1   \n",
       "1048573                 3           4.0       2.0        2   \n",
       "1048574                 3           4.0       2.0        2   \n",
       "\n",
       "         CVE_REF_PROXIMIDAD_URBANA  CVE_NIVEL_EQUIPAMIENTO_URBANO  \\\n",
       "0                                5                              1   \n",
       "1                                5                              1   \n",
       "2                                5                              1   \n",
       "3                                1                              1   \n",
       "4                                2                              1   \n",
       "...                            ...                            ...   \n",
       "1048570                          2                              4   \n",
       "1048571                          2                              4   \n",
       "1048572                          2                              4   \n",
       "1048573                          2                              4   \n",
       "1048574                          2                              4   \n",
       "\n",
       "         VALOR_MERCADO  VALOR_CONCLUIDO_TOTAL  NIVEL UNIDADES_RENTABLES  \\\n",
       "0               720691                 721000      3                  1   \n",
       "1              1841577                1842000      3                  2   \n",
       "2              1393971                1394000      3                  1   \n",
       "3              4305275                4305000      3                  1   \n",
       "4               826000                 829000      3                  1   \n",
       "...                ...                    ...    ...                ...   \n",
       "1048570         922424                 922000      3                  4   \n",
       "1048571         630000                 630000      3                  1   \n",
       "1048572         730000                 730000      3                  4   \n",
       "1048573        1019705                1020000      3                  4   \n",
       "1048574         648614                 649000      3                  1   \n",
       "\n",
       "         EDAD_ANIOS  PRECIO M2  VIDA_UTIL_REMANENTE  CVE_CLASIFICACION_ZONA  \\\n",
       "0                 0       8633                   50                       2   \n",
       "1                15      11091                   55                       3   \n",
       "2                 9      18703                   61                       3   \n",
       "3                25      12353                   45                       4   \n",
       "4                20       5954                   40                       3   \n",
       "...             ...        ...                  ...                     ...   \n",
       "1048570          22      12500                   38                       5   \n",
       "1048571          27       9929                   33                       5   \n",
       "1048572          20      14705                   40                       5   \n",
       "1048573          13      15093                   47                       5   \n",
       "1048574          26      15249                   34                       5   \n",
       "\n",
       "         CVE_VIGILANCIA   REGIMEN PROPIEDAD  TIPO_VIALIDAD  \\\n",
       "0                   NaN  PRIVADA INDIVIDUAL            NaN   \n",
       "1                   1.0  PRIVADA INDIVIDUAL            3.0   \n",
       "2                   1.0  PRIVADA INDIVIDUAL            2.0   \n",
       "3                   NaN  PRIVADA INDIVIDUAL            NaN   \n",
       "4                   NaN  PRIVADA INDIVIDUAL            NaN   \n",
       "...                 ...                 ...            ...   \n",
       "1048570             1.0   PRIVADA COLECTIVA            2.0   \n",
       "1048571             1.0   PRIVADA COLECTIVA            2.0   \n",
       "1048572             1.0   PRIVADA COLECTIVA            2.0   \n",
       "1048573             1.0   PRIVADA COLECTIVA            2.0   \n",
       "1048574             1.0   PRIVADA COLECTIVA            2.0   \n",
       "\n",
       "         NIVEL_INFRAESTRUCTURA Table Names-4  CUENTA_PREDIAL  ID_UV  \\\n",
       "0                          NaN          None             NaN  30001   \n",
       "1                          NaN          None             NaN   9067   \n",
       "2                          NaN          None             NaN   9067   \n",
       "3                          NaN          None             NaN   9068   \n",
       "4                          NaN          None             NaN   9083   \n",
       "...                        ...           ...             ...    ...   \n",
       "1048570                    NaN          None             NaN   9069   \n",
       "1048571                    NaN          None             NaN   9068   \n",
       "1048572                    NaN          None             NaN   9068   \n",
       "1048573                    NaN          None             NaN   9081   \n",
       "1048574                    NaN          None             NaN   5010   \n",
       "\n",
       "         ID_MUNICIPIO  ID_ENTIDAD_F  CLAVE_CONTROLADOR  CLAVE_VALUADOR  \\\n",
       "0                  27             7             302349          403733   \n",
       "1                 107             7            1844523          408526   \n",
       "2                   8             3             408047         1641235   \n",
       "3                   3             9            1742315         1400027   \n",
       "4                  51            21            1844210         1639485   \n",
       "...               ...           ...                ...             ...   \n",
       "1048570            39            15            1100411         2300064   \n",
       "1048571            20            15            1844743         1300995   \n",
       "1048572           121            15            1844743         1300995   \n",
       "1048573            60            15            1844797         1101765   \n",
       "1048574            24            15            1300748         1300565   \n",
       "\n",
       "        ID_OTORGANTE     CP    LATITUD    LONGITUD  RECAMARAS  BANOS  \\\n",
       "0              30001  29160  16.665061  -92.949447          2      1   \n",
       "1              40012  30535  16.137817  -93.000447          3      1   \n",
       "2              40012  23570  23.593706 -109.588844          1      1   \n",
       "3              30001   4600  19.310875  -99.158103          2      1   \n",
       "4              30001  74585  18.510228  -98.609661          4      2   \n",
       "...              ...    ...        ...         ...        ...    ...   \n",
       "1048570        30001  56536  19.309292  -98.858728          2      1   \n",
       "1048571        30001  55717  19.645500  -99.121889          2      1   \n",
       "1048572        30001  54715  19.698444  -99.218722          2      1   \n",
       "1048573        30001  54473  19.609017  -99.274625          2      1   \n",
       "1048574        30001  54800  19.657361  -99.164000          2      1   \n",
       "\n",
       "         MEDIO BANOS  ESTACIONAMIENTO  SUPERFICIE_TERRENO  \\\n",
       "0                  0                1                 267   \n",
       "1                  0                3                 620   \n",
       "2                  0                2                 561   \n",
       "3                  0                0                 143   \n",
       "4                  1                0                  93   \n",
       "...              ...              ...                 ...   \n",
       "1048570            0                1                  67   \n",
       "1048571            0                1                  35   \n",
       "1048572            0                1                  41   \n",
       "1048573            0                1                  60   \n",
       "1048574            0                1                  58   \n",
       "\n",
       "         SUPERFICIE_CONSTRUIDA  SUPERFICIE_ACCESORIA  SUPERFICIE_VENDIBLE  \\\n",
       "0                           83                     0                   83   \n",
       "1                          166                     0                  166   \n",
       "2                           74                     0                   74   \n",
       "3                          348                     0                  348   \n",
       "4                          139                     0                  139   \n",
       "...                        ...                   ...                  ...   \n",
       "1048570                     73                     0                   73   \n",
       "1048571                     63                     0                   63   \n",
       "1048572                     49                     0                   49   \n",
       "1048573                     67                     0                   67   \n",
       "1048574                     42                     0                   42   \n",
       "\n",
       "         VALOR_FISICO_TERRENO_M2  \n",
       "0                     490.000000  \n",
       "1                    1142.000000  \n",
       "2                    1278.900000  \n",
       "3                    8918.000000  \n",
       "4                    1398.000000  \n",
       "...                          ...  \n",
       "1048570              3822.313433  \n",
       "1048571              4652.571429  \n",
       "1048572              9217.247561  \n",
       "1048573              9486.501167  \n",
       "1048574              4048.000000  \n",
       "\n",
       "[1048575 rows x 43 columns]"
      ]
     },
     "execution_count": 3,
     "metadata": {},
     "output_type": "execute_result"
    }
   ],
   "source": [
    "# read parquet\n",
    "df_properties = pd.read_parquet(\"../../data/raw/avaluos_mex.parquet\")\n",
    "df_properties"
   ]
  },
  {
   "cell_type": "code",
   "execution_count": 4,
   "metadata": {},
   "outputs": [
    {
     "name": "stdout",
     "output_type": "stream",
     "text": [
      "<class 'pandas.core.frame.DataFrame'>\n",
      "RangeIndex: 1048575 entries, 0 to 1048574\n",
      "Data columns (total 43 columns):\n",
      " #   Column                         Non-Null Count    Dtype         \n",
      "---  ------                         --------------    -----         \n",
      " 0   VALOR_FISICO_CONSTRUCCION      1048575 non-null  float64       \n",
      " 1   ID_AVALUO                      1048575 non-null  object        \n",
      " 2   FECHA_AVALUO                   1048575 non-null  datetime64[ns]\n",
      " 3   COLONIA                        1048575 non-null  object        \n",
      " 4   ID_CLASE_INMUEBLE              1048575 non-null  int64         \n",
      " 5   ID_TIPO_INMUEBLE               1048575 non-null  int64         \n",
      " 6   CONSERVACION                   1048574 non-null  float64       \n",
      " 7   ELEVADOR                       1015862 non-null  float64       \n",
      " 8   NIVELES                        1048575 non-null  int64         \n",
      " 9   CVE_REF_PROXIMIDAD_URBANA      1048575 non-null  int64         \n",
      " 10  CVE_NIVEL_EQUIPAMIENTO_URBANO  1048575 non-null  int64         \n",
      " 11  VALOR_MERCADO                  1048575 non-null  int64         \n",
      " 12  VALOR_CONCLUIDO_TOTAL          1048575 non-null  int64         \n",
      " 13  NIVEL                          1048575 non-null  int64         \n",
      " 14  UNIDADES_RENTABLES             1048575 non-null  object        \n",
      " 15  EDAD_ANIOS                     1048575 non-null  int64         \n",
      " 16  PRECIO M2                      1048575 non-null  int64         \n",
      " 17  VIDA_UTIL_REMANENTE            1048575 non-null  int64         \n",
      " 18  CVE_CLASIFICACION_ZONA         1048575 non-null  int64         \n",
      " 19  CVE_VIGILANCIA                 669586 non-null   float64       \n",
      " 20  REGIMEN PROPIEDAD              1048575 non-null  object        \n",
      " 21  TIPO_VIALIDAD                  669586 non-null   float64       \n",
      " 22  NIVEL_INFRAESTRUCTURA          11464 non-null    float64       \n",
      " 23  Table Names-4                  903706 non-null   object        \n",
      " 24  CUENTA_PREDIAL                 0 non-null        float64       \n",
      " 25  ID_UV                          1048575 non-null  int64         \n",
      " 26  ID_MUNICIPIO                   1048575 non-null  int64         \n",
      " 27  ID_ENTIDAD_F                   1048575 non-null  int64         \n",
      " 28  CLAVE_CONTROLADOR              1048575 non-null  int64         \n",
      " 29  CLAVE_VALUADOR                 1048575 non-null  int64         \n",
      " 30  ID_OTORGANTE                   1048575 non-null  object        \n",
      " 31  CP                             1048575 non-null  int64         \n",
      " 32  LATITUD                        1048575 non-null  float64       \n",
      " 33  LONGITUD                       1048575 non-null  float64       \n",
      " 34  RECAMARAS                      1048575 non-null  int64         \n",
      " 35  BANOS                          1048575 non-null  int64         \n",
      " 36  MEDIO BANOS                    1048575 non-null  int64         \n",
      " 37  ESTACIONAMIENTO                1048575 non-null  int64         \n",
      " 38  SUPERFICIE_TERRENO             1048575 non-null  int64         \n",
      " 39  SUPERFICIE_CONSTRUIDA          1048575 non-null  int64         \n",
      " 40  SUPERFICIE_ACCESORIA           1048575 non-null  int64         \n",
      " 41  SUPERFICIE_VENDIBLE            1048575 non-null  int64         \n",
      " 42  VALOR_FISICO_TERRENO_M2        1048575 non-null  float64       \n",
      "dtypes: datetime64[ns](1), float64(10), int64(26), object(6)\n",
      "memory usage: 344.0+ MB\n"
     ]
    }
   ],
   "source": [
    "# see columns\n",
    "df_properties.info()"
   ]
  },
  {
   "cell_type": "code",
   "execution_count": 5,
   "metadata": {},
   "outputs": [
    {
     "data": {
      "text/html": [
       "<div>\n",
       "<style scoped>\n",
       "    .dataframe tbody tr th:only-of-type {\n",
       "        vertical-align: middle;\n",
       "    }\n",
       "\n",
       "    .dataframe tbody tr th {\n",
       "        vertical-align: top;\n",
       "    }\n",
       "\n",
       "    .dataframe thead th {\n",
       "        text-align: right;\n",
       "    }\n",
       "</style>\n",
       "<table border=\"1\" class=\"dataframe\">\n",
       "  <thead>\n",
       "    <tr style=\"text-align: right;\">\n",
       "      <th></th>\n",
       "      <th>VALOR_FISICO_CONSTRUCCION</th>\n",
       "      <th>VALOR_MERCADO</th>\n",
       "      <th>VALOR_CONCLUIDO_TOTAL</th>\n",
       "      <th>VALOR_FISICO_TERRENO_M2</th>\n",
       "    </tr>\n",
       "  </thead>\n",
       "  <tbody>\n",
       "    <tr>\n",
       "      <th>0</th>\n",
       "      <td>425901.00</td>\n",
       "      <td>720691</td>\n",
       "      <td>721000</td>\n",
       "      <td>490.000000</td>\n",
       "    </tr>\n",
       "    <tr>\n",
       "      <th>1</th>\n",
       "      <td>1035475.65</td>\n",
       "      <td>1841577</td>\n",
       "      <td>1842000</td>\n",
       "      <td>1142.000000</td>\n",
       "    </tr>\n",
       "    <tr>\n",
       "      <th>2</th>\n",
       "      <td>491898.00</td>\n",
       "      <td>1393971</td>\n",
       "      <td>1394000</td>\n",
       "      <td>1278.900000</td>\n",
       "    </tr>\n",
       "    <tr>\n",
       "      <th>3</th>\n",
       "      <td>1611371.52</td>\n",
       "      <td>4305275</td>\n",
       "      <td>4305000</td>\n",
       "      <td>8918.000000</td>\n",
       "    </tr>\n",
       "    <tr>\n",
       "      <th>4</th>\n",
       "      <td>697726.22</td>\n",
       "      <td>826000</td>\n",
       "      <td>829000</td>\n",
       "      <td>1398.000000</td>\n",
       "    </tr>\n",
       "    <tr>\n",
       "      <th>...</th>\n",
       "      <td>...</td>\n",
       "      <td>...</td>\n",
       "      <td>...</td>\n",
       "      <td>...</td>\n",
       "    </tr>\n",
       "    <tr>\n",
       "      <th>1048570</th>\n",
       "      <td>459452.28</td>\n",
       "      <td>922424</td>\n",
       "      <td>922000</td>\n",
       "      <td>3822.313433</td>\n",
       "    </tr>\n",
       "    <tr>\n",
       "      <th>1048571</th>\n",
       "      <td>296946.00</td>\n",
       "      <td>630000</td>\n",
       "      <td>630000</td>\n",
       "      <td>4652.571429</td>\n",
       "    </tr>\n",
       "    <tr>\n",
       "      <th>1048572</th>\n",
       "      <td>295328.25</td>\n",
       "      <td>730000</td>\n",
       "      <td>730000</td>\n",
       "      <td>9217.247561</td>\n",
       "    </tr>\n",
       "    <tr>\n",
       "      <th>1048573</th>\n",
       "      <td>400387.80</td>\n",
       "      <td>1019705</td>\n",
       "      <td>1020000</td>\n",
       "      <td>9486.501167</td>\n",
       "    </tr>\n",
       "    <tr>\n",
       "      <th>1048574</th>\n",
       "      <td>299196.80</td>\n",
       "      <td>648614</td>\n",
       "      <td>649000</td>\n",
       "      <td>4048.000000</td>\n",
       "    </tr>\n",
       "  </tbody>\n",
       "</table>\n",
       "<p>1048575 rows × 4 columns</p>\n",
       "</div>"
      ],
      "text/plain": [
       "         VALOR_FISICO_CONSTRUCCION  VALOR_MERCADO  VALOR_CONCLUIDO_TOTAL  \\\n",
       "0                        425901.00         720691                 721000   \n",
       "1                       1035475.65        1841577                1842000   \n",
       "2                        491898.00        1393971                1394000   \n",
       "3                       1611371.52        4305275                4305000   \n",
       "4                        697726.22         826000                 829000   \n",
       "...                            ...            ...                    ...   \n",
       "1048570                  459452.28         922424                 922000   \n",
       "1048571                  296946.00         630000                 630000   \n",
       "1048572                  295328.25         730000                 730000   \n",
       "1048573                  400387.80        1019705                1020000   \n",
       "1048574                  299196.80         648614                 649000   \n",
       "\n",
       "         VALOR_FISICO_TERRENO_M2  \n",
       "0                     490.000000  \n",
       "1                    1142.000000  \n",
       "2                    1278.900000  \n",
       "3                    8918.000000  \n",
       "4                    1398.000000  \n",
       "...                          ...  \n",
       "1048570              3822.313433  \n",
       "1048571              4652.571429  \n",
       "1048572              9217.247561  \n",
       "1048573              9486.501167  \n",
       "1048574              4048.000000  \n",
       "\n",
       "[1048575 rows x 4 columns]"
      ]
     },
     "execution_count": 5,
     "metadata": {},
     "output_type": "execute_result"
    }
   ],
   "source": [
    "# see all columns that have 'valor'\n",
    "df_properties.filter(like='VALOR')"
   ]
  },
  {
   "cell_type": "code",
   "execution_count": 6,
   "metadata": {},
   "outputs": [
    {
     "data": {
      "text/html": [
       "<div>\n",
       "<style scoped>\n",
       "    .dataframe tbody tr th:only-of-type {\n",
       "        vertical-align: middle;\n",
       "    }\n",
       "\n",
       "    .dataframe tbody tr th {\n",
       "        vertical-align: top;\n",
       "    }\n",
       "\n",
       "    .dataframe thead th {\n",
       "        text-align: right;\n",
       "    }\n",
       "</style>\n",
       "<table border=\"1\" class=\"dataframe\">\n",
       "  <thead>\n",
       "    <tr style=\"text-align: right;\">\n",
       "      <th></th>\n",
       "      <th>SUPERFICIE_TERRENO</th>\n",
       "      <th>SUPERFICIE_CONSTRUIDA</th>\n",
       "      <th>SUPERFICIE_ACCESORIA</th>\n",
       "      <th>SUPERFICIE_VENDIBLE</th>\n",
       "    </tr>\n",
       "  </thead>\n",
       "  <tbody>\n",
       "    <tr>\n",
       "      <th>0</th>\n",
       "      <td>267</td>\n",
       "      <td>83</td>\n",
       "      <td>0</td>\n",
       "      <td>83</td>\n",
       "    </tr>\n",
       "    <tr>\n",
       "      <th>1</th>\n",
       "      <td>620</td>\n",
       "      <td>166</td>\n",
       "      <td>0</td>\n",
       "      <td>166</td>\n",
       "    </tr>\n",
       "    <tr>\n",
       "      <th>2</th>\n",
       "      <td>561</td>\n",
       "      <td>74</td>\n",
       "      <td>0</td>\n",
       "      <td>74</td>\n",
       "    </tr>\n",
       "    <tr>\n",
       "      <th>3</th>\n",
       "      <td>143</td>\n",
       "      <td>348</td>\n",
       "      <td>0</td>\n",
       "      <td>348</td>\n",
       "    </tr>\n",
       "    <tr>\n",
       "      <th>4</th>\n",
       "      <td>93</td>\n",
       "      <td>139</td>\n",
       "      <td>0</td>\n",
       "      <td>139</td>\n",
       "    </tr>\n",
       "    <tr>\n",
       "      <th>...</th>\n",
       "      <td>...</td>\n",
       "      <td>...</td>\n",
       "      <td>...</td>\n",
       "      <td>...</td>\n",
       "    </tr>\n",
       "    <tr>\n",
       "      <th>1048570</th>\n",
       "      <td>67</td>\n",
       "      <td>73</td>\n",
       "      <td>0</td>\n",
       "      <td>73</td>\n",
       "    </tr>\n",
       "    <tr>\n",
       "      <th>1048571</th>\n",
       "      <td>35</td>\n",
       "      <td>63</td>\n",
       "      <td>0</td>\n",
       "      <td>63</td>\n",
       "    </tr>\n",
       "    <tr>\n",
       "      <th>1048572</th>\n",
       "      <td>41</td>\n",
       "      <td>49</td>\n",
       "      <td>0</td>\n",
       "      <td>49</td>\n",
       "    </tr>\n",
       "    <tr>\n",
       "      <th>1048573</th>\n",
       "      <td>60</td>\n",
       "      <td>67</td>\n",
       "      <td>0</td>\n",
       "      <td>67</td>\n",
       "    </tr>\n",
       "    <tr>\n",
       "      <th>1048574</th>\n",
       "      <td>58</td>\n",
       "      <td>42</td>\n",
       "      <td>0</td>\n",
       "      <td>42</td>\n",
       "    </tr>\n",
       "  </tbody>\n",
       "</table>\n",
       "<p>1048575 rows × 4 columns</p>\n",
       "</div>"
      ],
      "text/plain": [
       "         SUPERFICIE_TERRENO  SUPERFICIE_CONSTRUIDA  SUPERFICIE_ACCESORIA  \\\n",
       "0                       267                     83                     0   \n",
       "1                       620                    166                     0   \n",
       "2                       561                     74                     0   \n",
       "3                       143                    348                     0   \n",
       "4                        93                    139                     0   \n",
       "...                     ...                    ...                   ...   \n",
       "1048570                  67                     73                     0   \n",
       "1048571                  35                     63                     0   \n",
       "1048572                  41                     49                     0   \n",
       "1048573                  60                     67                     0   \n",
       "1048574                  58                     42                     0   \n",
       "\n",
       "         SUPERFICIE_VENDIBLE  \n",
       "0                         83  \n",
       "1                        166  \n",
       "2                         74  \n",
       "3                        348  \n",
       "4                        139  \n",
       "...                      ...  \n",
       "1048570                   73  \n",
       "1048571                   63  \n",
       "1048572                   49  \n",
       "1048573                   67  \n",
       "1048574                   42  \n",
       "\n",
       "[1048575 rows x 4 columns]"
      ]
     },
     "execution_count": 6,
     "metadata": {},
     "output_type": "execute_result"
    }
   ],
   "source": [
    "# see all columns that have 'superficie'\n",
    "df_properties.filter(like='SUPERFICIE')"
   ]
  },
  {
   "cell_type": "code",
   "execution_count": 7,
   "metadata": {},
   "outputs": [
    {
     "data": {
      "text/plain": [
       "Index(['valor_fisico_construccion', 'id_avaluo', 'fecha_avaluo', 'colonia',\n",
       "       'id_clase_inmueble', 'id_tipo_inmueble', 'conservacion', 'elevador',\n",
       "       'niveles', 'cve_ref_proximidad_urbana', 'cve_nivel_equipamiento_urbano',\n",
       "       'valor_mercado', 'valor_concluido_total', 'nivel', 'unidades_rentables',\n",
       "       'edad_anios', 'precio_m2', 'vida_util_remanente',\n",
       "       'cve_clasificacion_zona', 'cve_vigilancia', 'regimen_propiedad',\n",
       "       'tipo_vialidad', 'nivel_infraestructura', 'table_names-4',\n",
       "       'cuenta_predial', 'id_uv', 'id_municipio', 'id_entidad_f',\n",
       "       'clave_controlador', 'clave_valuador', 'id_otorgante', 'cp', 'latitud',\n",
       "       'longitud', 'recamaras', 'banos', 'medio_banos', 'estacionamiento',\n",
       "       'superficie_terreno', 'superficie_construida', 'superficie_accesoria',\n",
       "       'superficie_vendible', 'valor_fisico_terreno_m2'],\n",
       "      dtype='object')"
      ]
     },
     "execution_count": 7,
     "metadata": {},
     "output_type": "execute_result"
    }
   ],
   "source": [
    "# make columns lower case and blank spaces to _\n",
    "df_properties.columns = df_properties.columns.str.lower().str.replace(' ', '_')\n",
    "\n",
    "# see all columns\n",
    "df_properties.columns"
   ]
  },
  {
   "cell_type": "markdown",
   "metadata": {},
   "source": [
    "---\n",
    "# Time Distribution"
   ]
  },
  {
   "cell_type": "code",
   "execution_count": 8,
   "metadata": {},
   "outputs": [
    {
     "data": {
      "text/plain": [
       "count                          1048575\n",
       "mean     2021-05-14 02:13:24.838566912\n",
       "min                2019-01-01 00:00:00\n",
       "25%                2020-03-06 00:00:00\n",
       "50%                2021-05-18 00:00:00\n",
       "75%                2022-06-17 00:00:00\n",
       "max                2023-12-31 00:00:00\n",
       "Name: fecha_avaluo, dtype: object"
      ]
     },
     "execution_count": 8,
     "metadata": {},
     "output_type": "execute_result"
    }
   ],
   "source": [
    "# describe\n",
    "df_properties['fecha_avaluo'].describe()"
   ]
  },
  {
   "cell_type": "code",
   "execution_count": 9,
   "metadata": {},
   "outputs": [
    {
     "data": {
      "image/png": "[encoded data removed]",
      "text/plain": [
       "<Figure size 1500x500 with 1 Axes>"
      ]
     },
     "metadata": {},
     "output_type": "display_data"
    }
   ],
   "source": [
    "# time series of counts by each month and year\n",
    "ts_counts = (\n",
    "    df_properties\n",
    "    ['fecha_avaluo'].dt.to_period('M')\n",
    "    .value_counts()\n",
    "    .sort_index()\n",
    "    .to_frame()\n",
    "    # add missing months\n",
    "    .reindex(pd.period_range(\n",
    "        start=df_properties['fecha_avaluo'].min().to_period('M'),\n",
    "        end=df_properties['fecha_avaluo'].max().to_period('M'),\n",
    "        freq='M'\n",
    "        ))\n",
    "    .fillna(0)\n",
    "    )\n",
    "\n",
    "# plot time series\n",
    "ts_counts.plot(figsize=(15, 5))\n",
    "\n",
    "# add line each beginning of year\n",
    "for year in range(df_properties['fecha_avaluo'].dt.year.min(), df_properties['fecha_avaluo'].dt.year.max() + 1):\n",
    "    plt.axvline(x=f'{year}-01', color='k', linestyle='--', alpha=0.5)"
   ]
  },
  {
   "cell_type": "markdown",
   "metadata": {},
   "source": [
    "---\n",
    "# Geospatial analysis"
   ]
  },
  {
   "cell_type": "code",
   "execution_count": 10,
   "metadata": {},
   "outputs": [
    {
     "data": {
      "text/plain": [
       "0"
      ]
     },
     "execution_count": 10,
     "metadata": {},
     "output_type": "execute_result"
    }
   ],
   "source": [
    "# look nan id_entidad_f\n",
    "df_properties['id_entidad_f'].isna().sum()"
   ]
  },
  {
   "cell_type": "code",
   "execution_count": 11,
   "metadata": {},
   "outputs": [
    {
     "data": {
      "text/plain": [
       "<Axes: xlabel='id_entidad_f'>"
      ]
     },
     "execution_count": 11,
     "metadata": {},
     "output_type": "execute_result"
    },
    {
     "data": {
      "image/png": "[encoded data removed]",
      "text/plain": [
       "<Figure size 640x480 with 1 Axes>"
      ]
     },
     "metadata": {},
     "output_type": "display_data"
    }
   ],
   "source": [
    "# cout by ID_ENTIDAD_F\n",
    "df_properties['id_entidad_f'].value_counts().sort_index().plot(kind='bar')"
   ]
  },
  {
   "cell_type": "code",
   "execution_count": 12,
   "metadata": {},
   "outputs": [
    {
     "data": {
      "text/plain": [
       "latitud     0\n",
       "longitud    0\n",
       "dtype: int64"
      ]
     },
     "execution_count": 12,
     "metadata": {},
     "output_type": "execute_result"
    }
   ],
   "source": [
    "# look nan latitud & longitud\n",
    "df_properties[['latitud', 'longitud']].isna().sum()"
   ]
  },
  {
   "cell_type": "code",
   "execution_count": 13,
   "metadata": {},
   "outputs": [
    {
     "data": {
      "text/plain": [
       "<Axes: >"
      ]
     },
     "execution_count": 13,
     "metadata": {},
     "output_type": "execute_result"
    },
    {
     "data": {
      "image/png": "[encoded data removed]",
      "text/plain": [
       "<Figure size 1500x1500 with 1 Axes>"
      ]
     },
     "metadata": {},
     "output_type": "display_data"
    }
   ],
   "source": [
    "# plot points\n",
    "gdf_properties = gpd.GeoDataFrame(\n",
    "    df_properties.loc[:, ['latitud', 'longitud']],\n",
    "    geometry=gpd.points_from_xy(df_properties['longitud'], df_properties['latitud']),\n",
    "    crs='EPSG:4326'\n",
    "    )\n",
    "\n",
    "# plot\n",
    "gdf_properties.plot(figsize=(15, 15))"
   ]
  },
  {
   "cell_type": "markdown",
   "metadata": {},
   "source": [
    "---\n",
    "# Absolute Prices"
   ]
  },
  {
   "cell_type": "code",
   "execution_count": 7,
   "metadata": {},
   "outputs": [
    {
     "data": {
      "text/html": [
       "<div>\n",
       "<style scoped>\n",
       "    .dataframe tbody tr th:only-of-type {\n",
       "        vertical-align: middle;\n",
       "    }\n",
       "\n",
       "    .dataframe tbody tr th {\n",
       "        vertical-align: top;\n",
       "    }\n",
       "\n",
       "    .dataframe thead th {\n",
       "        text-align: right;\n",
       "    }\n",
       "</style>\n",
       "<table border=\"1\" class=\"dataframe\">\n",
       "  <thead>\n",
       "    <tr style=\"text-align: right;\">\n",
       "      <th></th>\n",
       "      <th>valor_fisico_construccion</th>\n",
       "      <th>valor_mercado</th>\n",
       "      <th>valor_concluido_total</th>\n",
       "      <th>valor_fisico_terreno_m2</th>\n",
       "    </tr>\n",
       "  </thead>\n",
       "  <tbody>\n",
       "    <tr>\n",
       "      <th>count</th>\n",
       "      <td>1.048575e+06</td>\n",
       "      <td>1.048575e+06</td>\n",
       "      <td>1.048575e+06</td>\n",
       "      <td>1.048575e+06</td>\n",
       "    </tr>\n",
       "    <tr>\n",
       "      <th>mean</th>\n",
       "      <td>6.782143e+05</td>\n",
       "      <td>1.402173e+06</td>\n",
       "      <td>1.400367e+06</td>\n",
       "      <td>4.361986e+03</td>\n",
       "    </tr>\n",
       "    <tr>\n",
       "      <th>std</th>\n",
       "      <td>8.597121e+05</td>\n",
       "      <td>2.156915e+06</td>\n",
       "      <td>2.152669e+06</td>\n",
       "      <td>8.959317e+03</td>\n",
       "    </tr>\n",
       "    <tr>\n",
       "      <th>min</th>\n",
       "      <td>0.000000e+00</td>\n",
       "      <td>0.000000e+00</td>\n",
       "      <td>2.000000e+05</td>\n",
       "      <td>0.000000e+00</td>\n",
       "    </tr>\n",
       "    <tr>\n",
       "      <th>25%</th>\n",
       "      <td>2.889936e+05</td>\n",
       "      <td>5.237050e+05</td>\n",
       "      <td>5.220000e+05</td>\n",
       "      <td>1.600000e+03</td>\n",
       "    </tr>\n",
       "    <tr>\n",
       "      <th>50%</th>\n",
       "      <td>4.152880e+05</td>\n",
       "      <td>7.733700e+05</td>\n",
       "      <td>7.710000e+05</td>\n",
       "      <td>2.400000e+03</td>\n",
       "    </tr>\n",
       "    <tr>\n",
       "      <th>75%</th>\n",
       "      <td>7.793775e+05</td>\n",
       "      <td>1.498000e+06</td>\n",
       "      <td>1.496000e+06</td>\n",
       "      <td>3.953000e+03</td>\n",
       "    </tr>\n",
       "    <tr>\n",
       "      <th>max</th>\n",
       "      <td>6.475791e+07</td>\n",
       "      <td>8.725550e+07</td>\n",
       "      <td>8.725500e+07</td>\n",
       "      <td>1.607634e+06</td>\n",
       "    </tr>\n",
       "  </tbody>\n",
       "</table>\n",
       "</div>"
      ],
      "text/plain": [
       "       valor_fisico_construccion  valor_mercado  valor_concluido_total  \\\n",
       "count               1.048575e+06   1.048575e+06           1.048575e+06   \n",
       "mean                6.782143e+05   1.402173e+06           1.400367e+06   \n",
       "std                 8.597121e+05   2.156915e+06           2.152669e+06   \n",
       "min                 0.000000e+00   0.000000e+00           2.000000e+05   \n",
       "25%                 2.889936e+05   5.237050e+05           5.220000e+05   \n",
       "50%                 4.152880e+05   7.733700e+05           7.710000e+05   \n",
       "75%                 7.793775e+05   1.498000e+06           1.496000e+06   \n",
       "max                 6.475791e+07   8.725550e+07           8.725500e+07   \n",
       "\n",
       "       valor_fisico_terreno_m2  \n",
       "count             1.048575e+06  \n",
       "mean              4.361986e+03  \n",
       "std               8.959317e+03  \n",
       "min               0.000000e+00  \n",
       "25%               1.600000e+03  \n",
       "50%               2.400000e+03  \n",
       "75%               3.953000e+03  \n",
       "max               1.607634e+06  "
      ]
     },
     "execution_count": 7,
     "metadata": {},
     "output_type": "execute_result"
    }
   ],
   "source": [
    "# describe\n",
    "df_properties.filter(like='valor').describe()"
   ]
  },
  {
   "cell_type": "markdown",
   "metadata": {},
   "source": [
    "## Valor Concluido Total"
   ]
  },
  {
   "cell_type": "code",
   "execution_count": 12,
   "metadata": {},
   "outputs": [
    {
     "data": {
      "text/plain": [
       "<Axes: xlabel='valor_concluido_total', ylabel='Density'>"
      ]
     },
     "execution_count": 12,
     "metadata": {},
     "output_type": "execute_result"
    },
    {
     "data": {
      "image/png": "[encoded data removed]",
      "text/plain": [
       "<Figure size 640x480 with 1 Axes>"
      ]
     },
     "metadata": {},
     "output_type": "display_data"
    }
   ],
   "source": [
    "# plot\n",
    "sns.kdeplot(df_properties, x='valor_concluido_total', log_scale=True)"
   ]
  },
  {
   "cell_type": "code",
   "execution_count": 15,
   "metadata": {},
   "outputs": [
    {
     "data": {
      "image/png": "[encoded data removed]",
      "text/plain": [
       "<Figure size 1500x500 with 1 Axes>"
      ]
     },
     "metadata": {},
     "output_type": "display_data"
    }
   ],
   "source": [
    "# create boxplot of valor_concluido_total and id_entidad_f\n",
    "plt.figure(figsize=(15, 5))\n",
    "\n",
    "sns.boxplot(\n",
    "    x='id_entidad_f',\n",
    "    y='valor_concluido_total',\n",
    "    data=df_properties\n",
    "    )\n",
    "\n",
    "# in log scale\n",
    "plt.yscale('log')\n"
   ]
  },
  {
   "cell_type": "markdown",
   "metadata": {},
   "source": [
    "## Valor Físico Construcción"
   ]
  },
  {
   "cell_type": "code",
   "execution_count": 15,
   "metadata": {},
   "outputs": [
    {
     "data": {
      "text/plain": [
       "<Axes: xlabel='valor_fisico_construccion', ylabel='Density'>"
      ]
     },
     "execution_count": 15,
     "metadata": {},
     "output_type": "execute_result"
    },
    {
     "data": {
      "image/png": "[encoded data removed]",
      "text/plain": [
       "<Figure size 640x480 with 1 Axes>"
      ]
     },
     "metadata": {},
     "output_type": "display_data"
    }
   ],
   "source": [
    "# plot\n",
    "sns.kdeplot(df_properties.query(\"valor_fisico_construccion > 0\"), x='valor_fisico_construccion', log_scale=True)"
   ]
  },
  {
   "cell_type": "code",
   "execution_count": 16,
   "metadata": {},
   "outputs": [
    {
     "name": "stdout",
     "output_type": "stream",
     "text": [
      "12071\n",
      "0.01151181365186086\n"
     ]
    }
   ],
   "source": [
    "# look how many properties have valor_fisico_construccion == 0\n",
    "print(df_properties['valor_fisico_construccion'].le(0).sum())\n",
    "print(df_properties['valor_fisico_construccion'].le(0).mean())"
   ]
  },
  {
   "cell_type": "markdown",
   "metadata": {},
   "source": [
    "## Valor Mercado"
   ]
  },
  {
   "cell_type": "code",
   "execution_count": 17,
   "metadata": {},
   "outputs": [
    {
     "data": {
      "text/plain": [
       "<Axes: xlabel='valor_mercado', ylabel='Density'>"
      ]
     },
     "execution_count": 17,
     "metadata": {},
     "output_type": "execute_result"
    },
    {
     "data": {
      "image/png": "[encoded data removed]",
      "text/plain": [
       "<Figure size 640x480 with 1 Axes>"
      ]
     },
     "metadata": {},
     "output_type": "display_data"
    }
   ],
   "source": [
    "# plot \n",
    "sns.kdeplot(df_properties.query(\"valor_mercado > 0\"), x='valor_mercado', log_scale=True)"
   ]
  },
  {
   "cell_type": "code",
   "execution_count": 18,
   "metadata": {},
   "outputs": [
    {
     "name": "stdout",
     "output_type": "stream",
     "text": [
      "12\n",
      "1.144410271082183e-05\n"
     ]
    }
   ],
   "source": [
    "# look how many properties have valor_mercado == 0\n",
    "print(df_properties['valor_mercado'].le(0).sum())\n",
    "print(df_properties['valor_mercado'].le(0).mean())"
   ]
  },
  {
   "cell_type": "markdown",
   "metadata": {},
   "source": [
    "## Valor Fisico Terreno"
   ]
  },
  {
   "cell_type": "code",
   "execution_count": 19,
   "metadata": {},
   "outputs": [
    {
     "data": {
      "text/plain": [
       "<Axes: xlabel='valor_fisico_terreno_m2', ylabel='Density'>"
      ]
     },
     "execution_count": 19,
     "metadata": {},
     "output_type": "execute_result"
    },
    {
     "data": {
      "image/png": "[encoded data removed]",
      "text/plain": [
       "<Figure size 640x480 with 1 Axes>"
      ]
     },
     "metadata": {},
     "output_type": "display_data"
    }
   ],
   "source": [
    "# plot \n",
    "sns.kdeplot(df_properties.query(\"valor_fisico_terreno_m2 > 0\"), x='valor_fisico_terreno_m2', log_scale=True)"
   ]
  },
  {
   "cell_type": "code",
   "execution_count": 20,
   "metadata": {},
   "outputs": [
    {
     "name": "stdout",
     "output_type": "stream",
     "text": [
      "45132\n",
      "0.043041270295400905\n"
     ]
    }
   ],
   "source": [
    "# look how many properties have valor_fisico_terreno_m2 == 0\n",
    "print(df_properties['valor_fisico_terreno_m2'].le(0).sum())\n",
    "print(df_properties['valor_fisico_terreno_m2'].le(0).mean())"
   ]
  },
  {
   "cell_type": "markdown",
   "metadata": {},
   "source": [
    "## Price per m2"
   ]
  },
  {
   "cell_type": "code",
   "execution_count": 21,
   "metadata": {},
   "outputs": [
    {
     "data": {
      "text/plain": [
       "count    1.048575e+06\n",
       "mean     1.408249e+04\n",
       "std      8.939704e+03\n",
       "min      5.000000e+03\n",
       "25%      9.468000e+03\n",
       "50%      1.157000e+04\n",
       "75%      1.510200e+04\n",
       "max      2.776390e+05\n",
       "Name: precio_m2, dtype: float64"
      ]
     },
     "execution_count": 21,
     "metadata": {},
     "output_type": "execute_result"
    }
   ],
   "source": [
    "# describe\n",
    "df_properties['precio_m2'].describe()"
   ]
  },
  {
   "cell_type": "code",
   "execution_count": 22,
   "metadata": {},
   "outputs": [
    {
     "data": {
      "text/plain": [
       "<Axes: xlabel='precio_m2', ylabel='Density'>"
      ]
     },
     "execution_count": 22,
     "metadata": {},
     "output_type": "execute_result"
    },
    {
     "data": {
      "image/png": "[encoded data removed]",
      "text/plain": [
       "<Figure size 640x480 with 1 Axes>"
      ]
     },
     "metadata": {},
     "output_type": "display_data"
    }
   ],
   "source": [
    "# plot\n",
    "sns.kdeplot(df_properties, x='precio_m2', log_scale=True)"
   ]
  },
  {
   "cell_type": "markdown",
   "metadata": {},
   "source": [
    "## MANUAL Price per m2"
   ]
  },
  {
   "cell_type": "code",
   "execution_count": 148,
   "metadata": {},
   "outputs": [],
   "source": [
    "# generate manual feature\n",
    "df_properties['precio_m2_manual'] = df_properties['valor_concluido_total'] / df_properties['superficie_vendible']"
   ]
  },
  {
   "cell_type": "code",
   "execution_count": 149,
   "metadata": {},
   "outputs": [
    {
     "data": {
      "text/plain": [
       "count    1.048575e+06\n",
       "mean     1.417047e+04\n",
       "std      8.982710e+03\n",
       "min      5.000000e+03\n",
       "25%      9.534483e+03\n",
       "50%      1.165116e+04\n",
       "75%      1.519231e+04\n",
       "max      2.781333e+05\n",
       "Name: precio_m2_manual, dtype: float64"
      ]
     },
     "execution_count": 149,
     "metadata": {},
     "output_type": "execute_result"
    }
   ],
   "source": [
    "# describe\n",
    "df_properties['precio_m2_manual'].describe()"
   ]
  },
  {
   "cell_type": "code",
   "execution_count": 150,
   "metadata": {},
   "outputs": [
    {
     "data": {
      "text/plain": [
       "<Axes: xlabel='precio_m2_manual', ylabel='Density'>"
      ]
     },
     "execution_count": 150,
     "metadata": {},
     "output_type": "execute_result"
    },
    {
     "data": {
      "image/png": "[encoded data removed]",
      "text/plain": [
       "<Figure size 640x480 with 1 Axes>"
      ]
     },
     "metadata": {},
     "output_type": "display_data"
    }
   ],
   "source": [
    "# plot distribution\n",
    "sns.kdeplot(df_properties.query(\"precio_m2_manual > 0\"), x='precio_m2_manual', log_scale=True)"
   ]
  },
  {
   "cell_type": "code",
   "execution_count": 154,
   "metadata": {},
   "outputs": [
    {
     "data": {
      "text/plain": [
       "<Axes: xlabel='precio_m2', ylabel='precio_m2_manual'>"
      ]
     },
     "execution_count": 154,
     "metadata": {},
     "output_type": "execute_result"
    },
    {
     "data": {
      "image/png": "[encoded data removed]",
      "text/plain": [
       "<Figure size 640x480 with 1 Axes>"
      ]
     },
     "metadata": {},
     "output_type": "display_data"
    }
   ],
   "source": [
    "# plot precio_m2 vs precio_m2_manual\n",
    "sns.scatterplot(\n",
    "    x='precio_m2',\n",
    "    y='precio_m2_manual',\n",
    "    data=df_properties\n",
    "    )"
   ]
  },
  {
   "cell_type": "code",
   "execution_count": 156,
   "metadata": {},
   "outputs": [
    {
     "data": {
      "text/plain": [
       "<Axes: >"
      ]
     },
     "execution_count": 156,
     "metadata": {},
     "output_type": "execute_result"
    },
    {
     "data": {
      "image/png": "[encoded data removed]",
      "text/plain": [
       "<Figure size 640x480 with 1 Axes>"
      ]
     },
     "metadata": {},
     "output_type": "display_data"
    }
   ],
   "source": [
    "# rel error\n",
    "(1 - df_properties['precio_m2_manual'].div(df_properties['precio_m2'])).hist(bins=100)\n"
   ]
  },
  {
   "cell_type": "code",
   "execution_count": 157,
   "metadata": {},
   "outputs": [
    {
     "data": {
      "text/plain": [
       "count    1.048575e+06\n",
       "mean    -6.532057e-03\n",
       "std      5.825209e-03\n",
       "min     -3.269317e-02\n",
       "25%     -1.016849e-02\n",
       "50%     -5.074343e-03\n",
       "75%     -1.682762e-03\n",
       "max      0.000000e+00\n",
       "dtype: float64"
      ]
     },
     "execution_count": 157,
     "metadata": {},
     "output_type": "execute_result"
    }
   ],
   "source": [
    "# rel error\n",
    "(1 - df_properties['precio_m2_manual'].div(df_properties['precio_m2'])).describe()\n"
   ]
  },
  {
   "cell_type": "code",
   "execution_count": 153,
   "metadata": {},
   "outputs": [
    {
     "data": {
      "text/plain": [
       "<Axes: xlabel='precio_m2', ylabel='precio_m2_manual'>"
      ]
     },
     "execution_count": 153,
     "metadata": {},
     "output_type": "execute_result"
    },
    {
     "data": {
      "image/png": "[encoded data removed]",
      "text/plain": [
       "<Figure size 640x480 with 1 Axes>"
      ]
     },
     "metadata": {},
     "output_type": "display_data"
    }
   ],
   "source": [
    "# plot precio_m2 vs precio_m2_manual\n",
    "sns.residplot(\n",
    "    x='precio_m2',\n",
    "    y='precio_m2_manual',\n",
    "    data=df_properties\n",
    "    )"
   ]
  },
  {
   "cell_type": "code",
   "execution_count": null,
   "metadata": {},
   "outputs": [],
   "source": [
    "TODO:\n",
    "- how the p2 is estimated?\n",
    "    - valor_concluido_total / superficie_vendible?\n",
    "    - valor_concluido_total / superficie_total?"
   ]
  },
  {
   "cell_type": "markdown",
   "metadata": {},
   "source": [
    "---\n",
    "# Age"
   ]
  },
  {
   "cell_type": "code",
   "execution_count": 20,
   "metadata": {},
   "outputs": [
    {
     "data": {
      "text/plain": [
       "count    1.048575e+06\n",
       "mean     6.231550e+00\n",
       "std      9.309544e+00\n",
       "min      0.000000e+00\n",
       "25%      0.000000e+00\n",
       "50%      0.000000e+00\n",
       "75%      1.100000e+01\n",
       "max      1.000000e+02\n",
       "Name: edad_anios, dtype: float64"
      ]
     },
     "execution_count": 20,
     "metadata": {},
     "output_type": "execute_result"
    }
   ],
   "source": [
    "# describe\n",
    "df_properties['edad_anios'].describe()"
   ]
  },
  {
   "cell_type": "code",
   "execution_count": 23,
   "metadata": {},
   "outputs": [
    {
     "data": {
      "text/plain": [
       "<Axes: xlabel='edad_anios', ylabel='Count'>"
      ]
     },
     "execution_count": 23,
     "metadata": {},
     "output_type": "execute_result"
    },
    {
     "data": {
      "image/png": "[encoded data removed]",
      "text/plain": [
       "<Figure size 640x480 with 1 Axes>"
      ]
     },
     "metadata": {},
     "output_type": "display_data"
    }
   ],
   "source": [
    "# plot\n",
    "sns.histplot(df_properties, x='edad_anios', log_scale=True)"
   ]
  },
  {
   "cell_type": "code",
   "execution_count": 24,
   "metadata": {},
   "outputs": [
    {
     "name": "stdout",
     "output_type": "stream",
     "text": [
      "539710\n",
      "0.5147080561714708\n"
     ]
    }
   ],
   "source": [
    "# how many with less than 0 years\n",
    "print(df_properties['edad_anios'].le(0).sum())\n",
    "print(df_properties['edad_anios'].le(0).mean())"
   ]
  },
  {
   "cell_type": "markdown",
   "metadata": {},
   "source": [
    "---\n",
    "# ID Type of Property"
   ]
  },
  {
   "cell_type": "code",
   "execution_count": 28,
   "metadata": {},
   "outputs": [],
   "source": [
    "# read txt files\n",
    "def read_and_convert_to_dataframe(file_path):\n",
    "    \"\"\"\n",
    "    Reads a text file and converts it into a pandas DataFrame with 'category' and 'description' columns.\n",
    "\n",
    "    Parameters:\n",
    "        file_path (str): The path to the text file.\n",
    "\n",
    "    Returns:\n",
    "        pd.DataFrame: A DataFrame with the formatted content.\n",
    "    \"\"\"\n",
    "    try:\n",
    "        with open(file_path, 'r', encoding='utf-8') as file:\n",
    "            lines = file.readlines()\n",
    "\n",
    "        data = []\n",
    "        for line in lines:\n",
    "            line = line.strip()  # Remove leading/trailing whitespace\n",
    "            if line and not line.startswith('#'):  # Skip empty lines and comments\n",
    "                parts = line.split(' ', 1)  # Split on the first space\n",
    "                if len(parts) == 2:\n",
    "                    category, description = parts\n",
    "                    if category.isdigit():  # Ensure category is a number\n",
    "                        data.append((int(category), description.strip()))\n",
    "\n",
    "        # Create DataFrame\n",
    "        df = pd.DataFrame(data, columns=['category', 'description'])\n",
    "\n",
    "        return df\n",
    "    except Exception as e:\n",
    "        print(f\"An error occurred: {e}\")\n",
    "        return pd.DataFrame()  # Return empty DataFrame on error\n"
   ]
  },
  {
   "cell_type": "code",
   "execution_count": 29,
   "metadata": {},
   "outputs": [
    {
     "data": {
      "text/html": [
       "<div>\n",
       "<style scoped>\n",
       "    .dataframe tbody tr th:only-of-type {\n",
       "        vertical-align: middle;\n",
       "    }\n",
       "\n",
       "    .dataframe tbody tr th {\n",
       "        vertical-align: top;\n",
       "    }\n",
       "\n",
       "    .dataframe thead th {\n",
       "        text-align: right;\n",
       "    }\n",
       "</style>\n",
       "<table border=\"1\" class=\"dataframe\">\n",
       "  <thead>\n",
       "    <tr style=\"text-align: right;\">\n",
       "      <th></th>\n",
       "      <th>category</th>\n",
       "      <th>description</th>\n",
       "    </tr>\n",
       "  </thead>\n",
       "  <tbody>\n",
       "    <tr>\n",
       "      <th>0</th>\n",
       "      <td>1</td>\n",
       "      <td>TERRENO</td>\n",
       "    </tr>\n",
       "    <tr>\n",
       "      <th>1</th>\n",
       "      <td>2</td>\n",
       "      <td>CASA HABITACIÓN</td>\n",
       "    </tr>\n",
       "    <tr>\n",
       "      <th>2</th>\n",
       "      <td>3</td>\n",
       "      <td>CASA EN CONDOMINIO</td>\n",
       "    </tr>\n",
       "    <tr>\n",
       "      <th>3</th>\n",
       "      <td>4</td>\n",
       "      <td>DEPARTAMENTO EN CONDOMINIO</td>\n",
       "    </tr>\n",
       "    <tr>\n",
       "      <th>4</th>\n",
       "      <td>5</td>\n",
       "      <td>OTRO</td>\n",
       "    </tr>\n",
       "    <tr>\n",
       "      <th>5</th>\n",
       "      <td>6</td>\n",
       "      <td>VIVIENDA MULTIPLE</td>\n",
       "    </tr>\n",
       "  </tbody>\n",
       "</table>\n",
       "</div>"
      ],
      "text/plain": [
       "   category                 description\n",
       "0         1                     TERRENO\n",
       "1         2             CASA HABITACIÓN\n",
       "2         3          CASA EN CONDOMINIO\n",
       "3         4  DEPARTAMENTO EN CONDOMINIO\n",
       "4         5                        OTRO\n",
       "5         6           VIVIENDA MULTIPLE"
      ]
     },
     "execution_count": 29,
     "metadata": {},
     "output_type": "execute_result"
    }
   ],
   "source": [
    "# read txt files\n",
    "table_property_type = read_and_convert_to_dataframe(\"../../data/catalogues/avaluos_catalogue/CAT_TIPO_INMUEBLE.txt\")\n",
    "table_property_type"
   ]
  },
  {
   "cell_type": "code",
   "execution_count": 36,
   "metadata": {},
   "outputs": [
    {
     "data": {
      "text/html": [
       "<div>\n",
       "<style scoped>\n",
       "    .dataframe tbody tr th:only-of-type {\n",
       "        vertical-align: middle;\n",
       "    }\n",
       "\n",
       "    .dataframe tbody tr th {\n",
       "        vertical-align: top;\n",
       "    }\n",
       "\n",
       "    .dataframe thead th {\n",
       "        text-align: right;\n",
       "    }\n",
       "</style>\n",
       "<table border=\"1\" class=\"dataframe\">\n",
       "  <thead>\n",
       "    <tr style=\"text-align: right;\">\n",
       "      <th></th>\n",
       "      <th>description</th>\n",
       "      <th>count</th>\n",
       "      <th>percentage</th>\n",
       "    </tr>\n",
       "  </thead>\n",
       "  <tbody>\n",
       "    <tr>\n",
       "      <th>0</th>\n",
       "      <td>CASA HABITACIÓN</td>\n",
       "      <td>533273</td>\n",
       "      <td>0.508569</td>\n",
       "    </tr>\n",
       "    <tr>\n",
       "      <th>1</th>\n",
       "      <td>CASA EN CONDOMINIO</td>\n",
       "      <td>261451</td>\n",
       "      <td>0.249339</td>\n",
       "    </tr>\n",
       "    <tr>\n",
       "      <th>2</th>\n",
       "      <td>DEPARTAMENTO EN CONDOMINIO</td>\n",
       "      <td>234440</td>\n",
       "      <td>0.223580</td>\n",
       "    </tr>\n",
       "    <tr>\n",
       "      <th>3</th>\n",
       "      <td>OTRO</td>\n",
       "      <td>19384</td>\n",
       "      <td>0.018486</td>\n",
       "    </tr>\n",
       "    <tr>\n",
       "      <th>4</th>\n",
       "      <td>TERRENO</td>\n",
       "      <td>27</td>\n",
       "      <td>0.000026</td>\n",
       "    </tr>\n",
       "  </tbody>\n",
       "</table>\n",
       "</div>"
      ],
      "text/plain": [
       "                  description   count  percentage\n",
       "0             CASA HABITACIÓN  533273    0.508569\n",
       "1          CASA EN CONDOMINIO  261451    0.249339\n",
       "2  DEPARTAMENTO EN CONDOMINIO  234440    0.223580\n",
       "3                        OTRO   19384    0.018486\n",
       "4                     TERRENO      27    0.000026"
      ]
     },
     "execution_count": 36,
     "metadata": {},
     "output_type": "execute_result"
    }
   ],
   "source": [
    "# count\n",
    "(\n",
    "    df_properties['id_tipo_inmueble']\n",
    "    .value_counts()\n",
    "    .reset_index()\n",
    "    .merge(\n",
    "        table_property_type,\n",
    "        left_on='id_tipo_inmueble',\n",
    "        right_on='category',\n",
    "        how='left'\n",
    "    )\n",
    "    .loc[:, ['description', 'count']]\n",
    "    .assign(\n",
    "        percentage=lambda x: x['count'] / x['count'].sum()\n",
    "    )\n",
    ")"
   ]
  },
  {
   "cell_type": "code",
   "execution_count": 26,
   "metadata": {},
   "outputs": [
    {
     "data": {
      "text/plain": [
       "0"
      ]
     },
     "execution_count": 26,
     "metadata": {},
     "output_type": "execute_result"
    }
   ],
   "source": [
    "# see nulls\n",
    "df_properties['id_tipo_inmueble'].isna().sum()"
   ]
  },
  {
   "cell_type": "markdown",
   "metadata": {},
   "source": [
    "---\n",
    "# ID Property class"
   ]
  },
  {
   "cell_type": "code",
   "execution_count": 49,
   "metadata": {},
   "outputs": [
    {
     "data": {
      "text/html": [
       "<div>\n",
       "<style scoped>\n",
       "    .dataframe tbody tr th:only-of-type {\n",
       "        vertical-align: middle;\n",
       "    }\n",
       "\n",
       "    .dataframe tbody tr th {\n",
       "        vertical-align: top;\n",
       "    }\n",
       "\n",
       "    .dataframe thead th {\n",
       "        text-align: right;\n",
       "    }\n",
       "</style>\n",
       "<table border=\"1\" class=\"dataframe\">\n",
       "  <thead>\n",
       "    <tr style=\"text-align: right;\">\n",
       "      <th></th>\n",
       "      <th>category</th>\n",
       "      <th>description</th>\n",
       "    </tr>\n",
       "  </thead>\n",
       "  <tbody>\n",
       "    <tr>\n",
       "      <th>0</th>\n",
       "      <td>0</td>\n",
       "      <td>NO APLICA</td>\n",
       "    </tr>\n",
       "    <tr>\n",
       "      <th>1</th>\n",
       "      <td>1</td>\n",
       "      <td>Mínima</td>\n",
       "    </tr>\n",
       "    <tr>\n",
       "      <th>2</th>\n",
       "      <td>2</td>\n",
       "      <td>Económica</td>\n",
       "    </tr>\n",
       "    <tr>\n",
       "      <th>3</th>\n",
       "      <td>3</td>\n",
       "      <td>Interés Social</td>\n",
       "    </tr>\n",
       "    <tr>\n",
       "      <th>4</th>\n",
       "      <td>4</td>\n",
       "      <td>Media</td>\n",
       "    </tr>\n",
       "    <tr>\n",
       "      <th>5</th>\n",
       "      <td>5</td>\n",
       "      <td>Semilujo</td>\n",
       "    </tr>\n",
       "    <tr>\n",
       "      <th>6</th>\n",
       "      <td>6</td>\n",
       "      <td>Residencial</td>\n",
       "    </tr>\n",
       "    <tr>\n",
       "      <th>7</th>\n",
       "      <td>7</td>\n",
       "      <td>Residencial Plus</td>\n",
       "    </tr>\n",
       "    <tr>\n",
       "      <th>8</th>\n",
       "      <td>8</td>\n",
       "      <td>Única</td>\n",
       "    </tr>\n",
       "  </tbody>\n",
       "</table>\n",
       "</div>"
      ],
      "text/plain": [
       "   category       description\n",
       "0         0         NO APLICA\n",
       "1         1            Mínima\n",
       "2         2         Económica\n",
       "3         3    Interés Social\n",
       "4         4             Media\n",
       "5         5          Semilujo\n",
       "6         6       Residencial\n",
       "7         7  Residencial Plus\n",
       "8         8             Única"
      ]
     },
     "execution_count": 49,
     "metadata": {},
     "output_type": "execute_result"
    }
   ],
   "source": [
    "# read txt files\n",
    "table_property_class = read_and_convert_to_dataframe(\"../../data/catalogues/avaluos_catalogue/CVE_CLASE_INMUEBLE, CVE_CLASE_GENERAL_INMUEBLES_ZONA Cat.ClasesConstruccion.txt\")\n",
    "table_property_class"
   ]
  },
  {
   "cell_type": "code",
   "execution_count": 54,
   "metadata": {},
   "outputs": [
    {
     "data": {
      "text/html": [
       "<div>\n",
       "<style scoped>\n",
       "    .dataframe tbody tr th:only-of-type {\n",
       "        vertical-align: middle;\n",
       "    }\n",
       "\n",
       "    .dataframe tbody tr th {\n",
       "        vertical-align: top;\n",
       "    }\n",
       "\n",
       "    .dataframe thead th {\n",
       "        text-align: right;\n",
       "    }\n",
       "</style>\n",
       "<table border=\"1\" class=\"dataframe\">\n",
       "  <thead>\n",
       "    <tr style=\"text-align: right;\">\n",
       "      <th></th>\n",
       "      <th>description</th>\n",
       "      <th>category</th>\n",
       "      <th>count</th>\n",
       "      <th>percentage</th>\n",
       "    </tr>\n",
       "  </thead>\n",
       "  <tbody>\n",
       "    <tr>\n",
       "      <th>0</th>\n",
       "      <td>Interés Social</td>\n",
       "      <td>3</td>\n",
       "      <td>589793</td>\n",
       "      <td>0.562471</td>\n",
       "    </tr>\n",
       "    <tr>\n",
       "      <th>1</th>\n",
       "      <td>Media</td>\n",
       "      <td>4</td>\n",
       "      <td>369559</td>\n",
       "      <td>0.352439</td>\n",
       "    </tr>\n",
       "    <tr>\n",
       "      <th>2</th>\n",
       "      <td>Semilujo</td>\n",
       "      <td>5</td>\n",
       "      <td>48883</td>\n",
       "      <td>0.046619</td>\n",
       "    </tr>\n",
       "    <tr>\n",
       "      <th>3</th>\n",
       "      <td>Económica</td>\n",
       "      <td>2</td>\n",
       "      <td>28700</td>\n",
       "      <td>0.027370</td>\n",
       "    </tr>\n",
       "    <tr>\n",
       "      <th>4</th>\n",
       "      <td>Residencial</td>\n",
       "      <td>6</td>\n",
       "      <td>10069</td>\n",
       "      <td>0.009603</td>\n",
       "    </tr>\n",
       "    <tr>\n",
       "      <th>5</th>\n",
       "      <td>Residencial Plus</td>\n",
       "      <td>7</td>\n",
       "      <td>1568</td>\n",
       "      <td>0.001495</td>\n",
       "    </tr>\n",
       "    <tr>\n",
       "      <th>6</th>\n",
       "      <td>Única</td>\n",
       "      <td>8</td>\n",
       "      <td>3</td>\n",
       "      <td>0.000003</td>\n",
       "    </tr>\n",
       "  </tbody>\n",
       "</table>\n",
       "</div>"
      ],
      "text/plain": [
       "        description  category   count  percentage\n",
       "0    Interés Social         3  589793    0.562471\n",
       "1             Media         4  369559    0.352439\n",
       "2          Semilujo         5   48883    0.046619\n",
       "3         Económica         2   28700    0.027370\n",
       "4       Residencial         6   10069    0.009603\n",
       "5  Residencial Plus         7    1568    0.001495\n",
       "6             Única         8       3    0.000003"
      ]
     },
     "execution_count": 54,
     "metadata": {},
     "output_type": "execute_result"
    }
   ],
   "source": [
    "# count\n",
    "(\n",
    "    df_properties['id_clase_inmueble']\n",
    "    .value_counts()\n",
    "    .reset_index()\n",
    "    .sort_values('id_clase_inmueble', ignore_index=True)\n",
    "    .merge(\n",
    "        table_property_class,\n",
    "        left_on='id_clase_inmueble',\n",
    "        right_on='category',\n",
    "        how='left'\n",
    "    )\n",
    "    .loc[:, ['description', 'category', 'count']]\n",
    "    .assign(\n",
    "        percentage=lambda x: x['count'] / x['count'].sum()\n",
    "    )\n",
    "    .sort_values('percentage', ascending=False, ignore_index=True)\n",
    ")"
   ]
  },
  {
   "cell_type": "markdown",
   "metadata": {},
   "source": [
    "---\n",
    "# Conservation Status"
   ]
  },
  {
   "cell_type": "code",
   "execution_count": 59,
   "metadata": {},
   "outputs": [
    {
     "data": {
      "text/plain": [
       "conservacion\n",
       "6.0    4.733252e-01\n",
       "4.0    4.638419e-01\n",
       "5.0    4.398541e-02\n",
       "7.0    1.678659e-02\n",
       "3.0    2.059938e-03\n",
       "NaN    9.536752e-07\n",
       "Name: proportion, dtype: float64"
      ]
     },
     "execution_count": 59,
     "metadata": {},
     "output_type": "execute_result"
    }
   ],
   "source": [
    "# look values\n",
    "df_properties['conservacion'].value_counts(dropna=False, normalize=True)"
   ]
  },
  {
   "cell_type": "markdown",
   "metadata": {},
   "source": [
    "---\n",
    "# Lifetime"
   ]
  },
  {
   "cell_type": "code",
   "execution_count": 60,
   "metadata": {},
   "outputs": [
    {
     "data": {
      "text/plain": [
       "count    1.048575e+06\n",
       "mean     5.817352e+01\n",
       "std      1.126291e+01\n",
       "min     -3.000000e+01\n",
       "25%      5.100000e+01\n",
       "50%      6.000000e+01\n",
       "75%      6.800000e+01\n",
       "max      8.000000e+01\n",
       "Name: vida_util_remanente, dtype: float64"
      ]
     },
     "execution_count": 60,
     "metadata": {},
     "output_type": "execute_result"
    }
   ],
   "source": [
    "# vida_util_remanente\n",
    "df_properties['vida_util_remanente'].describe()"
   ]
  },
  {
   "cell_type": "code",
   "execution_count": 64,
   "metadata": {},
   "outputs": [
    {
     "name": "stdout",
     "output_type": "stream",
     "text": [
      "13\n",
      "1.2397777936723649e-05\n"
     ]
    }
   ],
   "source": [
    "# count values less than 0\n",
    "print(df_properties['vida_util_remanente'].lt(0).sum())\n",
    "print(df_properties['vida_util_remanente'].lt(0).mean())"
   ]
  },
  {
   "cell_type": "code",
   "execution_count": 66,
   "metadata": {},
   "outputs": [
    {
     "data": {
      "text/plain": [
       "<Axes: xlabel='vida_util_remanente', ylabel='Count'>"
      ]
     },
     "execution_count": 66,
     "metadata": {},
     "output_type": "execute_result"
    },
    {
     "data": {
      "image/png": "[encoded data removed]",
      "text/plain": [
       "<Figure size 640x480 with 1 Axes>"
      ]
     },
     "metadata": {},
     "output_type": "display_data"
    }
   ],
   "source": [
    "# plot\n",
    "sns.histplot(df_properties.query(\"vida_util_remanente >= 0\"), x='vida_util_remanente')"
   ]
  },
  {
   "cell_type": "markdown",
   "metadata": {},
   "source": [
    "---\n",
    "# Property Regime"
   ]
  },
  {
   "cell_type": "code",
   "execution_count": 67,
   "metadata": {},
   "outputs": [
    {
     "data": {
      "text/plain": [
       "regimen_propiedad\n",
       "PRIVADA INDIVIDUAL    0.508595\n",
       "PRIVADA COLECTIVA     0.491405\n",
       "Name: proportion, dtype: float64"
      ]
     },
     "execution_count": 67,
     "metadata": {},
     "output_type": "execute_result"
    }
   ],
   "source": [
    "# counts\n",
    "df_properties['regimen_propiedad'].value_counts(dropna=False, normalize=True)"
   ]
  },
  {
   "cell_type": "markdown",
   "metadata": {},
   "source": [
    "---\n",
    "# Appraiser ID"
   ]
  },
  {
   "cell_type": "code",
   "execution_count": 71,
   "metadata": {},
   "outputs": [
    {
     "data": {
      "text/plain": [
       "clave_valuador\n",
       "1400027    1.705744e-02\n",
       "404822     8.920678e-03\n",
       "1203157    7.430084e-03\n",
       "700955     6.978042e-03\n",
       "1101997    6.952292e-03\n",
       "               ...     \n",
       "2200126    9.536752e-07\n",
       "700310     9.536752e-07\n",
       "1742955    9.536752e-07\n",
       "1537855    9.536752e-07\n",
       "1203090    9.536752e-07\n",
       "Name: proportion, Length: 2447, dtype: float64"
      ]
     },
     "execution_count": 71,
     "metadata": {},
     "output_type": "execute_result"
    }
   ],
   "source": [
    "# counts\n",
    "df_properties['clave_valuador'].value_counts(dropna=False, normalize=True)"
   ]
  },
  {
   "cell_type": "code",
   "execution_count": 72,
   "metadata": {},
   "outputs": [
    {
     "data": {
      "text/plain": [
       "clave_valuador\n",
       "1400027    17886\n",
       "404822      9354\n",
       "1203157     7791\n",
       "700955      7317\n",
       "1101997     7290\n",
       "           ...  \n",
       "2200126        1\n",
       "700310         1\n",
       "1742955        1\n",
       "1537855        1\n",
       "1203090        1\n",
       "Name: count, Length: 2447, dtype: int64"
      ]
     },
     "execution_count": 72,
     "metadata": {},
     "output_type": "execute_result"
    }
   ],
   "source": [
    "# counts\n",
    "df_properties['clave_valuador'].value_counts(dropna=False, normalize=False)"
   ]
  },
  {
   "cell_type": "code",
   "execution_count": 73,
   "metadata": {},
   "outputs": [
    {
     "name": "stdout",
     "output_type": "stream",
     "text": [
      "101\n",
      "0.04127503064977524\n"
     ]
    }
   ],
   "source": [
    "# see how many clvae_valuador are only 1\n",
    "print(df_properties['clave_valuador'].value_counts(dropna=False).eq(1).sum())\n",
    "print(df_properties['clave_valuador'].value_counts(dropna=False).eq(1).mean())"
   ]
  },
  {
   "cell_type": "code",
   "execution_count": 69,
   "metadata": {},
   "outputs": [
    {
     "data": {
      "text/plain": [
       "0"
      ]
     },
     "execution_count": 69,
     "metadata": {},
     "output_type": "execute_result"
    }
   ],
   "source": [
    "# look for nulls\n",
    "df_properties['clave_valuador'].isna().sum()"
   ]
  },
  {
   "cell_type": "markdown",
   "metadata": {},
   "source": [
    "---\n",
    "# Controler ID"
   ]
  },
  {
   "cell_type": "code",
   "execution_count": 74,
   "metadata": {},
   "outputs": [
    {
     "data": {
      "text/plain": [
       "clave_controlador\n",
       "1100189    2.078058e-02\n",
       "1742315    2.043726e-02\n",
       "302984     1.882841e-02\n",
       "1005669    1.867010e-02\n",
       "408039     1.733019e-02\n",
       "               ...     \n",
       "303073     9.536752e-07\n",
       "406066     9.536752e-07\n",
       "304493     9.536752e-07\n",
       "902742     9.536752e-07\n",
       "1500313    9.536752e-07\n",
       "Name: proportion, Length: 1039, dtype: float64"
      ]
     },
     "execution_count": 74,
     "metadata": {},
     "output_type": "execute_result"
    }
   ],
   "source": [
    "# counts\n",
    "df_properties['clave_controlador'].value_counts(dropna=False, normalize=True)"
   ]
  },
  {
   "cell_type": "code",
   "execution_count": 75,
   "metadata": {},
   "outputs": [
    {
     "data": {
      "text/plain": [
       "clave_controlador\n",
       "1100189    21790\n",
       "1742315    21430\n",
       "302984     19743\n",
       "1005669    19577\n",
       "408039     18172\n",
       "           ...  \n",
       "303073         1\n",
       "406066         1\n",
       "304493         1\n",
       "902742         1\n",
       "1500313        1\n",
       "Name: count, Length: 1039, dtype: int64"
      ]
     },
     "execution_count": 75,
     "metadata": {},
     "output_type": "execute_result"
    }
   ],
   "source": [
    "# counts\n",
    "df_properties['clave_controlador'].value_counts(dropna=False, normalize=False)"
   ]
  },
  {
   "cell_type": "code",
   "execution_count": 76,
   "metadata": {},
   "outputs": [
    {
     "name": "stdout",
     "output_type": "stream",
     "text": [
      "37\n",
      "0.0356111645813282\n"
     ]
    }
   ],
   "source": [
    "# see how many clvae_valuador are only 1\n",
    "print(df_properties['clave_controlador'].value_counts(dropna=False).eq(1).sum())\n",
    "print(df_properties['clave_controlador'].value_counts(dropna=False).eq(1).mean())"
   ]
  },
  {
   "cell_type": "code",
   "execution_count": 77,
   "metadata": {},
   "outputs": [
    {
     "data": {
      "text/plain": [
       "0"
      ]
     },
     "execution_count": 77,
     "metadata": {},
     "output_type": "execute_result"
    }
   ],
   "source": [
    "# look for nulls\n",
    "df_properties['clave_controlador'].isna().sum()"
   ]
  },
  {
   "cell_type": "markdown",
   "metadata": {},
   "source": [
    "---\n",
    "# General Amenities"
   ]
  },
  {
   "cell_type": "markdown",
   "metadata": {},
   "source": [
    "## Bathrooms"
   ]
  },
  {
   "cell_type": "code",
   "execution_count": 78,
   "metadata": {},
   "outputs": [
    {
     "data": {
      "text/plain": [
       "banos\n",
       "1     6.800486e-01\n",
       "2     2.273342e-01\n",
       "3     6.353289e-02\n",
       "4     2.059843e-02\n",
       "5     6.284720e-03\n",
       "6     1.574518e-03\n",
       "7     3.995899e-04\n",
       "8     1.173021e-04\n",
       "9     5.340581e-05\n",
       "0     3.147128e-05\n",
       "10    2.002718e-05\n",
       "12    3.814701e-06\n",
       "11    9.536752e-07\n",
       "Name: proportion, dtype: float64"
      ]
     },
     "execution_count": 78,
     "metadata": {},
     "output_type": "execute_result"
    }
   ],
   "source": [
    "# counts\n",
    "df_properties['banos'].value_counts(dropna=False, normalize=True)"
   ]
  },
  {
   "cell_type": "code",
   "execution_count": 88,
   "metadata": {},
   "outputs": [
    {
     "name": "stdout",
     "output_type": "stream",
     "text": [
      "33\n",
      "3.147128245476003e-05\n"
     ]
    }
   ],
   "source": [
    "# how many are less equal to 0\n",
    "print(df_properties['banos'].le(0).sum())\n",
    "print(df_properties['banos'].le(0).mean())"
   ]
  },
  {
   "cell_type": "code",
   "execution_count": 86,
   "metadata": {},
   "outputs": [
    {
     "name": "stdout",
     "output_type": "stream",
     "text": [
      "2275\n",
      "0.0021696111389266385\n"
     ]
    }
   ],
   "source": [
    "# how many bathrooms are greater than 5\n",
    "print(df_properties['banos'].gt(5).sum())\n",
    "print(df_properties['banos'].gt(5).mean())"
   ]
  },
  {
   "cell_type": "code",
   "execution_count": 79,
   "metadata": {},
   "outputs": [
    {
     "data": {
      "text/plain": [
       "medio_banos\n",
       "0     6.967341e-01\n",
       "1     2.903808e-01\n",
       "2     1.137067e-02\n",
       "3     1.210214e-03\n",
       "4     2.250674e-04\n",
       "5     4.673009e-05\n",
       "6     1.907350e-05\n",
       "9     5.722051e-06\n",
       "7     2.861026e-06\n",
       "10    1.907350e-06\n",
       "8     1.907350e-06\n",
       "11    9.536752e-07\n",
       "Name: proportion, dtype: float64"
      ]
     },
     "execution_count": 79,
     "metadata": {},
     "output_type": "execute_result"
    }
   ],
   "source": [
    "# medio_bano\n",
    "df_properties['medio_banos'].value_counts(dropna=False, normalize=True)"
   ]
  },
  {
   "cell_type": "code",
   "execution_count": 89,
   "metadata": {},
   "outputs": [
    {
     "name": "stdout",
     "output_type": "stream",
     "text": [
      "730578\n",
      "0.6967341391888993\n"
     ]
    }
   ],
   "source": [
    "# how many are less equal to 0\n",
    "print(df_properties['medio_banos'].le(0).sum())\n",
    "print(df_properties['medio_banos'].le(0).mean())"
   ]
  },
  {
   "cell_type": "code",
   "execution_count": 85,
   "metadata": {},
   "outputs": [
    {
     "name": "stdout",
     "output_type": "stream",
     "text": [
      "34\n",
      "3.242495768066185e-05\n"
     ]
    }
   ],
   "source": [
    "# how many half baths are greater than 5\n",
    "print(df_properties['medio_banos'].gt(5).sum())\n",
    "print(df_properties['medio_banos'].gt(5).mean())"
   ]
  },
  {
   "cell_type": "markdown",
   "metadata": {},
   "source": [
    "## Bedrooms"
   ]
  },
  {
   "cell_type": "code",
   "execution_count": 80,
   "metadata": {},
   "outputs": [
    {
     "data": {
      "text/plain": [
       "recamaras\n",
       "2     5.919243e-01\n",
       "3     2.999566e-01\n",
       "1     6.304079e-02\n",
       "4     3.602699e-02\n",
       "5     6.572730e-03\n",
       "6     1.663210e-03\n",
       "7     4.863744e-04\n",
       "8     1.668932e-04\n",
       "9     8.678445e-05\n",
       "10    2.956393e-05\n",
       "0     2.288821e-05\n",
       "11    9.536752e-06\n",
       "12    4.768376e-06\n",
       "14    2.861026e-06\n",
       "13    2.861026e-06\n",
       "34    1.907350e-06\n",
       "47    9.536752e-07\n",
       "Name: proportion, dtype: float64"
      ]
     },
     "execution_count": 80,
     "metadata": {},
     "output_type": "execute_result"
    }
   ],
   "source": [
    "# recamaras\n",
    "df_properties['recamaras'].value_counts(dropna=False, normalize=True)"
   ]
  },
  {
   "cell_type": "code",
   "execution_count": 87,
   "metadata": {},
   "outputs": [
    {
     "data": {
      "text/plain": [
       "recamaras\n",
       "2     620677\n",
       "3     314527\n",
       "1      66103\n",
       "4      37777\n",
       "5       6892\n",
       "6       1744\n",
       "7        510\n",
       "8        175\n",
       "9         91\n",
       "10        31\n",
       "0         24\n",
       "11        10\n",
       "12         5\n",
       "14         3\n",
       "13         3\n",
       "34         2\n",
       "47         1\n",
       "Name: count, dtype: int64"
      ]
     },
     "execution_count": 87,
     "metadata": {},
     "output_type": "execute_result"
    }
   ],
   "source": [
    "# recamaras\n",
    "df_properties['recamaras'].value_counts(dropna=False, normalize=False)"
   ]
  },
  {
   "cell_type": "code",
   "execution_count": 83,
   "metadata": {},
   "outputs": [
    {
     "data": {
      "text/plain": [
       "array([ 0,  1,  2,  3,  4,  5,  6,  7,  8,  9, 10, 11, 12, 13, 14, 34, 47])"
      ]
     },
     "execution_count": 83,
     "metadata": {},
     "output_type": "execute_result"
    }
   ],
   "source": [
    "# recamaras unique values sort\n",
    "df_properties['recamaras'].sort_values().unique()"
   ]
  },
  {
   "cell_type": "markdown",
   "metadata": {},
   "source": [
    "## Parking Lots"
   ]
  },
  {
   "cell_type": "code",
   "execution_count": 90,
   "metadata": {},
   "outputs": [
    {
     "data": {
      "text/plain": [
       "estacionamiento\n",
       "1     6.593272e-01\n",
       "2     1.888334e-01\n",
       "0     1.339837e-01\n",
       "3     1.131059e-02\n",
       "4     4.744534e-03\n",
       "6     7.457740e-04\n",
       "5     6.580359e-04\n",
       "8     1.268388e-04\n",
       "7     8.106239e-05\n",
       "10    7.534034e-05\n",
       "9     5.149846e-05\n",
       "12    2.002718e-05\n",
       "11    8.583077e-06\n",
       "20    6.675727e-06\n",
       "14    5.722051e-06\n",
       "15    4.768376e-06\n",
       "13    3.814701e-06\n",
       "21    3.814701e-06\n",
       "16    3.814701e-06\n",
       "24    1.907350e-06\n",
       "25    9.536752e-07\n",
       "23    9.536752e-07\n",
       "19    9.536752e-07\n",
       "Name: proportion, dtype: float64"
      ]
     },
     "execution_count": 90,
     "metadata": {},
     "output_type": "execute_result"
    }
   ],
   "source": [
    "# counts\n",
    "df_properties['estacionamiento'].value_counts(dropna=False, normalize=True)"
   ]
  },
  {
   "cell_type": "code",
   "execution_count": 92,
   "metadata": {},
   "outputs": [
    {
     "name": "stdout",
     "output_type": "stream",
     "text": [
      "1029852\n",
      "0.9821443387454403\n"
     ]
    }
   ],
   "source": [
    "# count less than 3\n",
    "print(df_properties['estacionamiento'].lt(3).sum())\n",
    "print(df_properties['estacionamiento'].lt(3).mean())"
   ]
  },
  {
   "cell_type": "markdown",
   "metadata": {},
   "source": [
    "---\n",
    "# Surface"
   ]
  },
  {
   "cell_type": "markdown",
   "metadata": {},
   "source": [
    "## Terrain"
   ]
  },
  {
   "cell_type": "code",
   "execution_count": 100,
   "metadata": {},
   "outputs": [
    {
     "data": {
      "text/plain": [
       "count    1.048575e+06\n",
       "mean     1.163972e+02\n",
       "std      1.449217e+02\n",
       "min      0.000000e+00\n",
       "25%      6.200000e+01\n",
       "50%      9.400000e+01\n",
       "75%      1.260000e+02\n",
       "max      9.986000e+03\n",
       "Name: superficie_terreno, dtype: float64"
      ]
     },
     "execution_count": 100,
     "metadata": {},
     "output_type": "execute_result"
    }
   ],
   "source": [
    "# describe\n",
    "df_properties['superficie_terreno'].describe()"
   ]
  },
  {
   "cell_type": "code",
   "execution_count": 102,
   "metadata": {},
   "outputs": [
    {
     "name": "stdout",
     "output_type": "stream",
     "text": [
      "126\n",
      "0.00012016307846362921\n"
     ]
    }
   ],
   "source": [
    "# count terrain surface less eq 0\n",
    "print(df_properties['superficie_terreno'].le(0).sum())\n",
    "print(df_properties['superficie_terreno'].le(0).mean())"
   ]
  },
  {
   "cell_type": "code",
   "execution_count": 106,
   "metadata": {},
   "outputs": [
    {
     "name": "stdout",
     "output_type": "stream",
     "text": [
      "3024\n",
      "0.002883913883127101\n"
     ]
    }
   ],
   "source": [
    "# count terrain greater than 1000\n",
    "print(df_properties['superficie_terreno'].gt(1000).sum())\n",
    "print(df_properties['superficie_terreno'].gt(1000).mean())"
   ]
  },
  {
   "cell_type": "code",
   "execution_count": 107,
   "metadata": {},
   "outputs": [
    {
     "data": {
      "text/plain": [
       "<Axes: xlabel='superficie_terreno', ylabel='Count'>"
      ]
     },
     "execution_count": 107,
     "metadata": {},
     "output_type": "execute_result"
    },
    {
     "data": {
      "image/png": "[encoded data removed]",
      "text/plain": [
       "<Figure size 640x480 with 1 Axes>"
      ]
     },
     "metadata": {},
     "output_type": "display_data"
    }
   ],
   "source": [
    "# distribution\n",
    "sns.histplot(df_properties.query(\"superficie_terreno.between(20, 1_000)\"), x='superficie_terreno', bins=50)"
   ]
  },
  {
   "cell_type": "markdown",
   "metadata": {},
   "source": [
    "## Built Surface"
   ]
  },
  {
   "cell_type": "code",
   "execution_count": 108,
   "metadata": {},
   "outputs": [
    {
     "data": {
      "text/plain": [
       "count    1.048575e+06\n",
       "mean     8.455308e+01\n",
       "std      6.159143e+01\n",
       "min      0.000000e+00\n",
       "25%      4.900000e+01\n",
       "50%      6.400000e+01\n",
       "75%      9.900000e+01\n",
       "max      1.494000e+03\n",
       "Name: superficie_construida, dtype: float64"
      ]
     },
     "execution_count": 108,
     "metadata": {},
     "output_type": "execute_result"
    }
   ],
   "source": [
    "# describe\n",
    "df_properties['superficie_construida'].describe()"
   ]
  },
  {
   "cell_type": "code",
   "execution_count": 109,
   "metadata": {},
   "outputs": [
    {
     "name": "stdout",
     "output_type": "stream",
     "text": [
      "8\n",
      "7.629401807214553e-06\n"
     ]
    }
   ],
   "source": [
    "# count terrain surface less eq 0\n",
    "print(df_properties['superficie_construida'].le(0).sum())\n",
    "print(df_properties['superficie_construida'].le(0).mean())"
   ]
  },
  {
   "cell_type": "code",
   "execution_count": 110,
   "metadata": {},
   "outputs": [
    {
     "name": "stdout",
     "output_type": "stream",
     "text": [
      "104\n",
      "9.918222349378919e-05\n"
     ]
    }
   ],
   "source": [
    "# count terrain greater than 1000\n",
    "print(df_properties['superficie_construida'].gt(1000).sum())\n",
    "print(df_properties['superficie_construida'].gt(1000).mean())"
   ]
  },
  {
   "cell_type": "code",
   "execution_count": 111,
   "metadata": {},
   "outputs": [
    {
     "data": {
      "text/plain": [
       "<Axes: xlabel='superficie_construida', ylabel='Count'>"
      ]
     },
     "execution_count": 111,
     "metadata": {},
     "output_type": "execute_result"
    },
    {
     "data": {
      "image/png": "[encoded data removed]",
      "text/plain": [
       "<Figure size 640x480 with 1 Axes>"
      ]
     },
     "metadata": {},
     "output_type": "display_data"
    }
   ],
   "source": [
    "# distribution\n",
    "sns.histplot(df_properties.query(\"superficie_construida.between(20, 1_000)\"), x='superficie_construida', bins=50)"
   ]
  },
  {
   "cell_type": "markdown",
   "metadata": {},
   "source": [
    "## Access Surface"
   ]
  },
  {
   "cell_type": "code",
   "execution_count": 116,
   "metadata": {},
   "outputs": [
    {
     "name": "stdout",
     "output_type": "stream",
     "text": [
      "0\n",
      "0.0\n"
     ]
    }
   ],
   "source": [
    "# nulls\n",
    "print(df_properties['superficie_accesoria'].isna().sum())\n",
    "print(df_properties['superficie_accesoria'].isna().mean())"
   ]
  },
  {
   "cell_type": "code",
   "execution_count": 112,
   "metadata": {},
   "outputs": [
    {
     "data": {
      "text/plain": [
       "count    1.048575e+06\n",
       "mean     5.271093e+00\n",
       "std      2.221592e+01\n",
       "min      0.000000e+00\n",
       "25%      0.000000e+00\n",
       "50%      0.000000e+00\n",
       "75%      1.000000e+00\n",
       "max      5.255000e+03\n",
       "Name: superficie_accesoria, dtype: float64"
      ]
     },
     "execution_count": 112,
     "metadata": {},
     "output_type": "execute_result"
    }
   ],
   "source": [
    "# describe\n",
    "df_properties['superficie_accesoria'].describe()"
   ]
  },
  {
   "cell_type": "code",
   "execution_count": 113,
   "metadata": {},
   "outputs": [
    {
     "name": "stdout",
     "output_type": "stream",
     "text": [
      "778265\n",
      "0.7422120496864792\n"
     ]
    }
   ],
   "source": [
    "# count terrain surface less eq 0\n",
    "print(df_properties['superficie_accesoria'].le(0).sum())\n",
    "print(df_properties['superficie_accesoria'].le(0).mean())"
   ]
  },
  {
   "cell_type": "code",
   "execution_count": 114,
   "metadata": {},
   "outputs": [
    {
     "name": "stdout",
     "output_type": "stream",
     "text": [
      "19\n",
      "1.8119829292134564e-05\n"
     ]
    }
   ],
   "source": [
    "# count terrain greater than 1000\n",
    "print(df_properties['superficie_accesoria'].gt(1000).sum())\n",
    "print(df_properties['superficie_accesoria'].gt(1000).mean())"
   ]
  },
  {
   "cell_type": "code",
   "execution_count": 115,
   "metadata": {},
   "outputs": [
    {
     "data": {
      "text/plain": [
       "<Axes: xlabel='superficie_accesoria', ylabel='Count'>"
      ]
     },
     "execution_count": 115,
     "metadata": {},
     "output_type": "execute_result"
    },
    {
     "data": {
      "image/png": "[encoded data removed]",
      "text/plain": [
       "<Figure size 640x480 with 1 Axes>"
      ]
     },
     "metadata": {},
     "output_type": "display_data"
    }
   ],
   "source": [
    "# distribution\n",
    "sns.histplot(df_properties.query(\"superficie_accesoria.between(20, 1_000)\"), x='superficie_accesoria', bins=50)"
   ]
  },
  {
   "cell_type": "markdown",
   "metadata": {},
   "source": [
    "## Selling Area"
   ]
  },
  {
   "cell_type": "code",
   "execution_count": 121,
   "metadata": {},
   "outputs": [
    {
     "name": "stdout",
     "output_type": "stream",
     "text": [
      "0.0\n",
      "0.0\n"
     ]
    }
   ],
   "source": [
    "# nans\n",
    "print(df_properties['superficie_vendible'].isna().mean())\n",
    "print(df_properties['superficie_vendible'].isna().mean())"
   ]
  },
  {
   "cell_type": "code",
   "execution_count": 117,
   "metadata": {},
   "outputs": [
    {
     "data": {
      "text/plain": [
       "count    1.048575e+06\n",
       "mean     8.962750e+01\n",
       "std      7.048789e+01\n",
       "min      3.000000e+01\n",
       "25%      4.900000e+01\n",
       "50%      6.500000e+01\n",
       "75%      1.040000e+02\n",
       "max      1.494000e+03\n",
       "Name: superficie_vendible, dtype: float64"
      ]
     },
     "execution_count": 117,
     "metadata": {},
     "output_type": "execute_result"
    }
   ],
   "source": [
    "# describe\n",
    "df_properties['superficie_vendible'].describe()"
   ]
  },
  {
   "cell_type": "code",
   "execution_count": 118,
   "metadata": {},
   "outputs": [
    {
     "name": "stdout",
     "output_type": "stream",
     "text": [
      "0\n",
      "0.0\n"
     ]
    }
   ],
   "source": [
    "# count terrain surface less eq 0\n",
    "print(df_properties['superficie_vendible'].le(0).sum())\n",
    "print(df_properties['superficie_vendible'].le(0).mean())"
   ]
  },
  {
   "cell_type": "code",
   "execution_count": 127,
   "metadata": {},
   "outputs": [
    {
     "name": "stdout",
     "output_type": "stream",
     "text": [
      "1094\n",
      "0.0010433206971365901\n"
     ]
    }
   ],
   "source": [
    "# count terrain surface less eq 20\n",
    "print(df_properties['superficie_vendible'].le(30).sum())\n",
    "print(df_properties['superficie_vendible'].le(30).mean())"
   ]
  },
  {
   "cell_type": "code",
   "execution_count": 119,
   "metadata": {},
   "outputs": [
    {
     "name": "stdout",
     "output_type": "stream",
     "text": [
      "226\n",
      "0.00021553060105381112\n"
     ]
    }
   ],
   "source": [
    "# count terrain greater than 1000\n",
    "print(df_properties['superficie_vendible'].gt(1000).sum())\n",
    "print(df_properties['superficie_vendible'].gt(1000).mean())"
   ]
  },
  {
   "cell_type": "code",
   "execution_count": 120,
   "metadata": {},
   "outputs": [
    {
     "data": {
      "text/plain": [
       "<Axes: xlabel='superficie_vendible', ylabel='Count'>"
      ]
     },
     "execution_count": 120,
     "metadata": {},
     "output_type": "execute_result"
    },
    {
     "data": {
      "image/png": "[encoded data removed]",
      "text/plain": [
       "<Figure size 640x480 with 1 Axes>"
      ]
     },
     "metadata": {},
     "output_type": "display_data"
    }
   ],
   "source": [
    "# distribution\n",
    "sns.histplot(df_properties.query(\"superficie_vendible.between(20, 1_000)\"), x='superficie_vendible', bins=50)"
   ]
  },
  {
   "cell_type": "markdown",
   "metadata": {},
   "source": [
    "## Which terrain surface taken into account for valuation"
   ]
  },
  {
   "cell_type": "code",
   "execution_count": 8,
   "metadata": {},
   "outputs": [
    {
     "data": {
      "text/html": [
       "<div>\n",
       "<style scoped>\n",
       "    .dataframe tbody tr th:only-of-type {\n",
       "        vertical-align: middle;\n",
       "    }\n",
       "\n",
       "    .dataframe tbody tr th {\n",
       "        vertical-align: top;\n",
       "    }\n",
       "\n",
       "    .dataframe thead th {\n",
       "        text-align: right;\n",
       "    }\n",
       "</style>\n",
       "<table border=\"1\" class=\"dataframe\">\n",
       "  <thead>\n",
       "    <tr style=\"text-align: right;\">\n",
       "      <th></th>\n",
       "      <th>superficie_terreno</th>\n",
       "      <th>superficie_construida</th>\n",
       "      <th>superficie_accesoria</th>\n",
       "      <th>superficie_vendible</th>\n",
       "    </tr>\n",
       "  </thead>\n",
       "  <tbody>\n",
       "    <tr>\n",
       "      <th>0</th>\n",
       "      <td>267</td>\n",
       "      <td>83</td>\n",
       "      <td>0</td>\n",
       "      <td>83</td>\n",
       "    </tr>\n",
       "    <tr>\n",
       "      <th>1</th>\n",
       "      <td>620</td>\n",
       "      <td>166</td>\n",
       "      <td>0</td>\n",
       "      <td>166</td>\n",
       "    </tr>\n",
       "    <tr>\n",
       "      <th>2</th>\n",
       "      <td>561</td>\n",
       "      <td>74</td>\n",
       "      <td>0</td>\n",
       "      <td>74</td>\n",
       "    </tr>\n",
       "    <tr>\n",
       "      <th>3</th>\n",
       "      <td>143</td>\n",
       "      <td>348</td>\n",
       "      <td>0</td>\n",
       "      <td>348</td>\n",
       "    </tr>\n",
       "    <tr>\n",
       "      <th>4</th>\n",
       "      <td>93</td>\n",
       "      <td>139</td>\n",
       "      <td>0</td>\n",
       "      <td>139</td>\n",
       "    </tr>\n",
       "    <tr>\n",
       "      <th>...</th>\n",
       "      <td>...</td>\n",
       "      <td>...</td>\n",
       "      <td>...</td>\n",
       "      <td>...</td>\n",
       "    </tr>\n",
       "    <tr>\n",
       "      <th>1048570</th>\n",
       "      <td>67</td>\n",
       "      <td>73</td>\n",
       "      <td>0</td>\n",
       "      <td>73</td>\n",
       "    </tr>\n",
       "    <tr>\n",
       "      <th>1048571</th>\n",
       "      <td>35</td>\n",
       "      <td>63</td>\n",
       "      <td>0</td>\n",
       "      <td>63</td>\n",
       "    </tr>\n",
       "    <tr>\n",
       "      <th>1048572</th>\n",
       "      <td>41</td>\n",
       "      <td>49</td>\n",
       "      <td>0</td>\n",
       "      <td>49</td>\n",
       "    </tr>\n",
       "    <tr>\n",
       "      <th>1048573</th>\n",
       "      <td>60</td>\n",
       "      <td>67</td>\n",
       "      <td>0</td>\n",
       "      <td>67</td>\n",
       "    </tr>\n",
       "    <tr>\n",
       "      <th>1048574</th>\n",
       "      <td>58</td>\n",
       "      <td>42</td>\n",
       "      <td>0</td>\n",
       "      <td>42</td>\n",
       "    </tr>\n",
       "  </tbody>\n",
       "</table>\n",
       "<p>1048575 rows × 4 columns</p>\n",
       "</div>"
      ],
      "text/plain": [
       "         superficie_terreno  superficie_construida  superficie_accesoria  \\\n",
       "0                       267                     83                     0   \n",
       "1                       620                    166                     0   \n",
       "2                       561                     74                     0   \n",
       "3                       143                    348                     0   \n",
       "4                        93                    139                     0   \n",
       "...                     ...                    ...                   ...   \n",
       "1048570                  67                     73                     0   \n",
       "1048571                  35                     63                     0   \n",
       "1048572                  41                     49                     0   \n",
       "1048573                  60                     67                     0   \n",
       "1048574                  58                     42                     0   \n",
       "\n",
       "         superficie_vendible  \n",
       "0                         83  \n",
       "1                        166  \n",
       "2                         74  \n",
       "3                        348  \n",
       "4                        139  \n",
       "...                      ...  \n",
       "1048570                   73  \n",
       "1048571                   63  \n",
       "1048572                   49  \n",
       "1048573                   67  \n",
       "1048574                   42  \n",
       "\n",
       "[1048575 rows x 4 columns]"
      ]
     },
     "execution_count": 8,
     "metadata": {},
     "output_type": "execute_result"
    }
   ],
   "source": [
    "# see surface cols\n",
    "df_properties.filter(like='superficie')"
   ]
  },
  {
   "cell_type": "code",
   "execution_count": 9,
   "metadata": {},
   "outputs": [
    {
     "data": {
      "text/plain": [
       "0.751442672197983"
      ]
     },
     "execution_count": 9,
     "metadata": {},
     "output_type": "execute_result"
    }
   ],
   "source": [
    "# case where built surface is the same as surface sold\n",
    "df_properties['superficie_vendible'].eq(df_properties['superficie_construida']).mean()"
   ]
  },
  {
   "cell_type": "code",
   "execution_count": 11,
   "metadata": {},
   "outputs": [
    {
     "data": {
      "text/html": [
       "<div>\n",
       "<style scoped>\n",
       "    .dataframe tbody tr th:only-of-type {\n",
       "        vertical-align: middle;\n",
       "    }\n",
       "\n",
       "    .dataframe tbody tr th {\n",
       "        vertical-align: top;\n",
       "    }\n",
       "\n",
       "    .dataframe thead th {\n",
       "        text-align: right;\n",
       "    }\n",
       "</style>\n",
       "<table border=\"1\" class=\"dataframe\">\n",
       "  <thead>\n",
       "    <tr style=\"text-align: right;\">\n",
       "      <th></th>\n",
       "      <th>same_surface_construida</th>\n",
       "      <th>same_surface_terreno</th>\n",
       "      <th>same_surface_accesoria</th>\n",
       "      <th>same_surface_construida_terreno</th>\n",
       "      <th>same_surface_construida_accesoria</th>\n",
       "    </tr>\n",
       "    <tr>\n",
       "      <th>id_tipo_inmueble</th>\n",
       "      <th></th>\n",
       "      <th></th>\n",
       "      <th></th>\n",
       "      <th></th>\n",
       "      <th></th>\n",
       "    </tr>\n",
       "  </thead>\n",
       "  <tbody>\n",
       "    <tr>\n",
       "      <th>1</th>\n",
       "      <td>0.074074</td>\n",
       "      <td>0.777778</td>\n",
       "      <td>0.000000</td>\n",
       "      <td>0.296296</td>\n",
       "      <td>0.074074</td>\n",
       "    </tr>\n",
       "    <tr>\n",
       "      <th>2</th>\n",
       "      <td>0.691143</td>\n",
       "      <td>0.010372</td>\n",
       "      <td>0.000039</td>\n",
       "      <td>0.000024</td>\n",
       "      <td>0.852633</td>\n",
       "    </tr>\n",
       "    <tr>\n",
       "      <th>3</th>\n",
       "      <td>0.786449</td>\n",
       "      <td>0.024372</td>\n",
       "      <td>0.000031</td>\n",
       "      <td>0.000096</td>\n",
       "      <td>0.881385</td>\n",
       "    </tr>\n",
       "    <tr>\n",
       "      <th>4</th>\n",
       "      <td>0.854056</td>\n",
       "      <td>0.162340</td>\n",
       "      <td>0.000222</td>\n",
       "      <td>0.001548</td>\n",
       "      <td>0.896762</td>\n",
       "    </tr>\n",
       "    <tr>\n",
       "      <th>5</th>\n",
       "      <td>0.698050</td>\n",
       "      <td>0.083058</td>\n",
       "      <td>0.000000</td>\n",
       "      <td>0.000052</td>\n",
       "      <td>0.860504</td>\n",
       "    </tr>\n",
       "  </tbody>\n",
       "</table>\n",
       "</div>"
      ],
      "text/plain": [
       "                  same_surface_construida  same_surface_terreno  \\\n",
       "id_tipo_inmueble                                                  \n",
       "1                                0.074074              0.777778   \n",
       "2                                0.691143              0.010372   \n",
       "3                                0.786449              0.024372   \n",
       "4                                0.854056              0.162340   \n",
       "5                                0.698050              0.083058   \n",
       "\n",
       "                  same_surface_accesoria  same_surface_construida_terreno  \\\n",
       "id_tipo_inmueble                                                            \n",
       "1                               0.000000                         0.296296   \n",
       "2                               0.000039                         0.000024   \n",
       "3                               0.000031                         0.000096   \n",
       "4                               0.000222                         0.001548   \n",
       "5                               0.000000                         0.000052   \n",
       "\n",
       "                  same_surface_construida_accesoria  \n",
       "id_tipo_inmueble                                     \n",
       "1                                          0.074074  \n",
       "2                                          0.852633  \n",
       "3                                          0.881385  \n",
       "4                                          0.896762  \n",
       "5                                          0.860504  "
      ]
     },
     "execution_count": 11,
     "metadata": {},
     "output_type": "execute_result"
    }
   ],
   "source": [
    "# see case where built surface is the same as surface sold group by id_tipo_inmueble\n",
    "(\n",
    "    df_properties\n",
    "    .assign(\n",
    "        same_surface_construida=lambda x: x['superficie_vendible'].eq(x['superficie_construida']),\n",
    "        same_surface_terreno=lambda x: x['superficie_vendible'].eq(x['superficie_terreno']),\n",
    "        same_surface_accesoria=lambda x: x['superficie_vendible'].eq(x['superficie_accesoria']),\n",
    "        same_surface_construida_terreno=lambda x: x['superficie_vendible'].eq(x['superficie_construida'] + x['superficie_terreno']),\n",
    "        same_surface_construida_accesoria=lambda x: x['superficie_vendible'].eq(x['superficie_construida'] + x['superficie_accesoria']),\n",
    "    )\n",
    "    .groupby('id_tipo_inmueble')\n",
    "    [['same_surface_construida', 'same_surface_terreno', 'same_surface_accesoria', 'same_surface_construida_terreno', 'same_surface_construida_accesoria']]\n",
    "    .mean()\n",
    ")"
   ]
  },
  {
   "cell_type": "code",
   "execution_count": 134,
   "metadata": {},
   "outputs": [
    {
     "name": "stderr",
     "output_type": "stream",
     "text": [
      "/var/folders/42/2lkg1sf91wv7mjxw6klfcqtc0000gn/T/ipykernel_73359/3576346843.py:5: DeprecationWarning: DataFrameGroupBy.apply operated on the grouping columns. This behavior is deprecated, and in a future version of pandas the grouping columns will be excluded from the operation. Either pass `include_groups=False` to exclude the groupings or explicitly select the grouping columns after groupby to silence this warning.\n",
      "  .apply(lambda x: x['superficie_construida'].eq(x['superficie_terreno']).mean())\n"
     ]
    },
    {
     "data": {
      "text/plain": [
       "id_tipo_inmueble\n",
       "1    0.222222\n",
       "2    0.010222\n",
       "3    0.023568\n",
       "4    0.156087\n",
       "5    0.090384\n",
       "dtype: float64"
      ]
     },
     "execution_count": 134,
     "metadata": {},
     "output_type": "execute_result"
    }
   ],
   "source": [
    "# look cases where terrain & built surface are the same\n",
    "(\n",
    "    df_properties\n",
    "    .groupby('id_tipo_inmueble')\n",
    "    .apply(lambda x: x['superficie_construida'].eq(x['superficie_terreno']).mean())\n",
    ")"
   ]
  },
  {
   "cell_type": "markdown",
   "metadata": {},
   "source": [
    "TODO:\n",
    "- how is the relationship between selling surface and the 3 types of surface?"
   ]
  },
  {
   "cell_type": "code",
   "execution_count": 21,
   "metadata": {},
   "outputs": [],
   "source": [
    "# see case where built surface is the same as surface sold group by id_tipo_inmueble\n",
    "df_properties = (\n",
    "    df_properties\n",
    "    .assign(\n",
    "        surface_construida_accesoria=lambda x: x['superficie_construida'] + x['superficie_accesoria']\n",
    "    )\n",
    ")"
   ]
  },
  {
   "cell_type": "code",
   "execution_count": 26,
   "metadata": {},
   "outputs": [
    {
     "data": {
      "text/plain": [
       "<seaborn.axisgrid.FacetGrid at 0x7fee02c09840>"
      ]
     },
     "execution_count": 26,
     "metadata": {},
     "output_type": "execute_result"
    },
    {
     "data": {
      "image/png": "[encoded data removed]",
      "text/plain": [
       "<Figure size 1500x300 with 5 Axes>"
      ]
     },
     "metadata": {},
     "output_type": "display_data"
    }
   ],
   "source": [
    "# see relationship between superficie_vendible and same_surface_construida_accesoria\n",
    "g = sns.FacetGrid(\n",
    "    df_properties,\n",
    "    col='id_tipo_inmueble',\n",
    "    col_wrap=5,\n",
    "    sharex=False,\n",
    "    sharey=False,\n",
    "    )\n",
    "\n",
    "g.map(\n",
    "    sns.scatterplot,\n",
    "    'surface_construida_accesoria',\n",
    "    'superficie_vendible',\n",
    "    )\n"
   ]
  },
  {
   "cell_type": "markdown",
   "metadata": {},
   "source": [
    "note:\n",
    "- remove only properties which superficie_vendible is less than superficie_construida + superficie_accesoria !!!"
   ]
  },
  {
   "cell_type": "markdown",
   "metadata": {},
   "source": [
    "---\n",
    "# Sandbox"
   ]
  },
  {
   "cell_type": "code",
   "execution_count": 38,
   "metadata": {},
   "outputs": [
    {
     "data": {
      "text/plain": [
       "Index(['valor_fisico_construccion', 'id_avaluo', 'fecha_avaluo', 'colonia',\n",
       "       'id_clase_inmueble', 'id_tipo_inmueble', 'conservacion', 'elevador',\n",
       "       'niveles', 'cve_ref_proximidad_urbana', 'cve_nivel_equipamiento_urbano',\n",
       "       'valor_mercado', 'valor_concluido_total', 'nivel', 'unidades_rentables',\n",
       "       'edad_anios', 'precio_m2', 'vida_util_remanente',\n",
       "       'cve_clasificacion_zona', 'cve_vigilancia', 'regimen_propiedad',\n",
       "       'tipo_vialidad', 'nivel_infraestructura', 'table_names-4',\n",
       "       'cuenta_predial', 'id_uv', 'id_municipio', 'id_entidad_f',\n",
       "       'clave_controlador', 'clave_valuador', 'id_otorgante', 'cp', 'latitud',\n",
       "       'longitud', 'recamaras', 'banos', 'medio_banos', 'estacionamiento',\n",
       "       'superficie_terreno', 'superficie_construida', 'superficie_accesoria',\n",
       "       'superficie_vendible', 'valor_fisico_terreno_m2'],\n",
       "      dtype='object')"
      ]
     },
     "execution_count": 38,
     "metadata": {},
     "output_type": "execute_result"
    }
   ],
   "source": [
    "df_properties.columns"
   ]
  },
  {
   "cell_type": "code",
   "execution_count": 39,
   "metadata": {},
   "outputs": [
    {
     "data": {
      "text/html": [
       "<div>\n",
       "<style scoped>\n",
       "    .dataframe tbody tr th:only-of-type {\n",
       "        vertical-align: middle;\n",
       "    }\n",
       "\n",
       "    .dataframe tbody tr th {\n",
       "        vertical-align: top;\n",
       "    }\n",
       "\n",
       "    .dataframe thead th {\n",
       "        text-align: right;\n",
       "    }\n",
       "</style>\n",
       "<table border=\"1\" class=\"dataframe\">\n",
       "  <thead>\n",
       "    <tr style=\"text-align: right;\">\n",
       "      <th></th>\n",
       "      <th>valor_fisico_construccion</th>\n",
       "      <th>id_avaluo</th>\n",
       "      <th>fecha_avaluo</th>\n",
       "      <th>colonia</th>\n",
       "      <th>id_clase_inmueble</th>\n",
       "      <th>id_tipo_inmueble</th>\n",
       "      <th>conservacion</th>\n",
       "      <th>elevador</th>\n",
       "      <th>niveles</th>\n",
       "      <th>cve_ref_proximidad_urbana</th>\n",
       "      <th>cve_nivel_equipamiento_urbano</th>\n",
       "      <th>valor_mercado</th>\n",
       "      <th>valor_concluido_total</th>\n",
       "      <th>nivel</th>\n",
       "      <th>unidades_rentables</th>\n",
       "      <th>edad_anios</th>\n",
       "      <th>precio_m2</th>\n",
       "      <th>vida_util_remanente</th>\n",
       "      <th>cve_clasificacion_zona</th>\n",
       "      <th>cve_vigilancia</th>\n",
       "      <th>regimen_propiedad</th>\n",
       "      <th>tipo_vialidad</th>\n",
       "      <th>nivel_infraestructura</th>\n",
       "      <th>table_names-4</th>\n",
       "      <th>cuenta_predial</th>\n",
       "      <th>id_uv</th>\n",
       "      <th>id_municipio</th>\n",
       "      <th>id_entidad_f</th>\n",
       "      <th>clave_controlador</th>\n",
       "      <th>clave_valuador</th>\n",
       "      <th>id_otorgante</th>\n",
       "      <th>cp</th>\n",
       "      <th>latitud</th>\n",
       "      <th>longitud</th>\n",
       "      <th>recamaras</th>\n",
       "      <th>banos</th>\n",
       "      <th>medio_banos</th>\n",
       "      <th>estacionamiento</th>\n",
       "      <th>superficie_terreno</th>\n",
       "      <th>superficie_construida</th>\n",
       "      <th>superficie_accesoria</th>\n",
       "      <th>superficie_vendible</th>\n",
       "      <th>valor_fisico_terreno_m2</th>\n",
       "    </tr>\n",
       "  </thead>\n",
       "  <tbody>\n",
       "    <tr>\n",
       "      <th>0</th>\n",
       "      <td>425901.00</td>\n",
       "      <td>30001190710390500</td>\n",
       "      <td>2019-09-06</td>\n",
       "      <td>SD</td>\n",
       "      <td>2</td>\n",
       "      <td>2</td>\n",
       "      <td>4.0</td>\n",
       "      <td>0.0</td>\n",
       "      <td>1</td>\n",
       "      <td>5</td>\n",
       "      <td>1</td>\n",
       "      <td>720691</td>\n",
       "      <td>721000</td>\n",
       "      <td>3</td>\n",
       "      <td>1</td>\n",
       "      <td>0</td>\n",
       "      <td>8633</td>\n",
       "      <td>50</td>\n",
       "      <td>2</td>\n",
       "      <td>NaN</td>\n",
       "      <td>PRIVADA INDIVIDUAL</td>\n",
       "      <td>NaN</td>\n",
       "      <td>NaN</td>\n",
       "      <td>None</td>\n",
       "      <td>NaN</td>\n",
       "      <td>30001</td>\n",
       "      <td>27</td>\n",
       "      <td>7</td>\n",
       "      <td>302349</td>\n",
       "      <td>403733</td>\n",
       "      <td>30001</td>\n",
       "      <td>29160</td>\n",
       "      <td>16.665061</td>\n",
       "      <td>-92.949447</td>\n",
       "      <td>2</td>\n",
       "      <td>1</td>\n",
       "      <td>0</td>\n",
       "      <td>1</td>\n",
       "      <td>267</td>\n",
       "      <td>83</td>\n",
       "      <td>0</td>\n",
       "      <td>83</td>\n",
       "      <td>490.0</td>\n",
       "    </tr>\n",
       "    <tr>\n",
       "      <th>1</th>\n",
       "      <td>1035475.65</td>\n",
       "      <td>9067200711805890</td>\n",
       "      <td>2020-04-27</td>\n",
       "      <td>SD</td>\n",
       "      <td>4</td>\n",
       "      <td>2</td>\n",
       "      <td>4.0</td>\n",
       "      <td>0.0</td>\n",
       "      <td>1</td>\n",
       "      <td>5</td>\n",
       "      <td>1</td>\n",
       "      <td>1841577</td>\n",
       "      <td>1842000</td>\n",
       "      <td>3</td>\n",
       "      <td>2</td>\n",
       "      <td>15</td>\n",
       "      <td>11091</td>\n",
       "      <td>55</td>\n",
       "      <td>3</td>\n",
       "      <td>1.0</td>\n",
       "      <td>PRIVADA INDIVIDUAL</td>\n",
       "      <td>3.0</td>\n",
       "      <td>NaN</td>\n",
       "      <td>None</td>\n",
       "      <td>NaN</td>\n",
       "      <td>9067</td>\n",
       "      <td>107</td>\n",
       "      <td>7</td>\n",
       "      <td>1844523</td>\n",
       "      <td>408526</td>\n",
       "      <td>40012</td>\n",
       "      <td>30535</td>\n",
       "      <td>16.137817</td>\n",
       "      <td>-93.000447</td>\n",
       "      <td>3</td>\n",
       "      <td>1</td>\n",
       "      <td>0</td>\n",
       "      <td>3</td>\n",
       "      <td>620</td>\n",
       "      <td>166</td>\n",
       "      <td>0</td>\n",
       "      <td>166</td>\n",
       "      <td>1142.0</td>\n",
       "    </tr>\n",
       "    <tr>\n",
       "      <th>2</th>\n",
       "      <td>491898.00</td>\n",
       "      <td>9067200311678970</td>\n",
       "      <td>2020-01-20</td>\n",
       "      <td>SD</td>\n",
       "      <td>4</td>\n",
       "      <td>2</td>\n",
       "      <td>4.0</td>\n",
       "      <td>0.0</td>\n",
       "      <td>1</td>\n",
       "      <td>5</td>\n",
       "      <td>1</td>\n",
       "      <td>1393971</td>\n",
       "      <td>1394000</td>\n",
       "      <td>3</td>\n",
       "      <td>1</td>\n",
       "      <td>9</td>\n",
       "      <td>18703</td>\n",
       "      <td>61</td>\n",
       "      <td>3</td>\n",
       "      <td>1.0</td>\n",
       "      <td>PRIVADA INDIVIDUAL</td>\n",
       "      <td>2.0</td>\n",
       "      <td>NaN</td>\n",
       "      <td>None</td>\n",
       "      <td>NaN</td>\n",
       "      <td>9067</td>\n",
       "      <td>8</td>\n",
       "      <td>3</td>\n",
       "      <td>408047</td>\n",
       "      <td>1641235</td>\n",
       "      <td>40012</td>\n",
       "      <td>23570</td>\n",
       "      <td>23.593706</td>\n",
       "      <td>-109.588844</td>\n",
       "      <td>1</td>\n",
       "      <td>1</td>\n",
       "      <td>0</td>\n",
       "      <td>2</td>\n",
       "      <td>561</td>\n",
       "      <td>74</td>\n",
       "      <td>0</td>\n",
       "      <td>74</td>\n",
       "      <td>1278.9</td>\n",
       "    </tr>\n",
       "    <tr>\n",
       "      <th>3</th>\n",
       "      <td>1611371.52</td>\n",
       "      <td>090682009R0225150</td>\n",
       "      <td>2020-05-27</td>\n",
       "      <td>SD</td>\n",
       "      <td>4</td>\n",
       "      <td>2</td>\n",
       "      <td>4.0</td>\n",
       "      <td>1.0</td>\n",
       "      <td>4</td>\n",
       "      <td>1</td>\n",
       "      <td>1</td>\n",
       "      <td>4305275</td>\n",
       "      <td>4305000</td>\n",
       "      <td>3</td>\n",
       "      <td>1</td>\n",
       "      <td>25</td>\n",
       "      <td>12353</td>\n",
       "      <td>45</td>\n",
       "      <td>4</td>\n",
       "      <td>NaN</td>\n",
       "      <td>PRIVADA INDIVIDUAL</td>\n",
       "      <td>NaN</td>\n",
       "      <td>NaN</td>\n",
       "      <td>None</td>\n",
       "      <td>NaN</td>\n",
       "      <td>9068</td>\n",
       "      <td>3</td>\n",
       "      <td>9</td>\n",
       "      <td>1742315</td>\n",
       "      <td>1400027</td>\n",
       "      <td>30001</td>\n",
       "      <td>4600</td>\n",
       "      <td>19.310875</td>\n",
       "      <td>-99.158103</td>\n",
       "      <td>2</td>\n",
       "      <td>1</td>\n",
       "      <td>0</td>\n",
       "      <td>0</td>\n",
       "      <td>143</td>\n",
       "      <td>348</td>\n",
       "      <td>0</td>\n",
       "      <td>348</td>\n",
       "      <td>8918.0</td>\n",
       "    </tr>\n",
       "    <tr>\n",
       "      <th>4</th>\n",
       "      <td>697726.22</td>\n",
       "      <td>090832021R0653330</td>\n",
       "      <td>2020-12-08</td>\n",
       "      <td>SD</td>\n",
       "      <td>3</td>\n",
       "      <td>2</td>\n",
       "      <td>4.0</td>\n",
       "      <td>2.0</td>\n",
       "      <td>2</td>\n",
       "      <td>2</td>\n",
       "      <td>1</td>\n",
       "      <td>826000</td>\n",
       "      <td>829000</td>\n",
       "      <td>3</td>\n",
       "      <td>1</td>\n",
       "      <td>20</td>\n",
       "      <td>5954</td>\n",
       "      <td>40</td>\n",
       "      <td>3</td>\n",
       "      <td>NaN</td>\n",
       "      <td>PRIVADA INDIVIDUAL</td>\n",
       "      <td>NaN</td>\n",
       "      <td>NaN</td>\n",
       "      <td>None</td>\n",
       "      <td>NaN</td>\n",
       "      <td>9083</td>\n",
       "      <td>51</td>\n",
       "      <td>21</td>\n",
       "      <td>1844210</td>\n",
       "      <td>1639485</td>\n",
       "      <td>30001</td>\n",
       "      <td>74585</td>\n",
       "      <td>18.510228</td>\n",
       "      <td>-98.609661</td>\n",
       "      <td>4</td>\n",
       "      <td>2</td>\n",
       "      <td>1</td>\n",
       "      <td>0</td>\n",
       "      <td>93</td>\n",
       "      <td>139</td>\n",
       "      <td>0</td>\n",
       "      <td>139</td>\n",
       "      <td>1398.0</td>\n",
       "    </tr>\n",
       "  </tbody>\n",
       "</table>\n",
       "</div>"
      ],
      "text/plain": [
       "   valor_fisico_construccion          id_avaluo fecha_avaluo colonia  \\\n",
       "0                  425901.00  30001190710390500   2019-09-06      SD   \n",
       "1                 1035475.65   9067200711805890   2020-04-27      SD   \n",
       "2                  491898.00   9067200311678970   2020-01-20      SD   \n",
       "3                 1611371.52  090682009R0225150   2020-05-27      SD   \n",
       "4                  697726.22  090832021R0653330   2020-12-08      SD   \n",
       "\n",
       "   id_clase_inmueble  id_tipo_inmueble  conservacion  elevador  niveles  \\\n",
       "0                  2                 2           4.0       0.0        1   \n",
       "1                  4                 2           4.0       0.0        1   \n",
       "2                  4                 2           4.0       0.0        1   \n",
       "3                  4                 2           4.0       1.0        4   \n",
       "4                  3                 2           4.0       2.0        2   \n",
       "\n",
       "   cve_ref_proximidad_urbana  cve_nivel_equipamiento_urbano  valor_mercado  \\\n",
       "0                          5                              1         720691   \n",
       "1                          5                              1        1841577   \n",
       "2                          5                              1        1393971   \n",
       "3                          1                              1        4305275   \n",
       "4                          2                              1         826000   \n",
       "\n",
       "   valor_concluido_total  nivel unidades_rentables  edad_anios  precio_m2  \\\n",
       "0                 721000      3                  1           0       8633   \n",
       "1                1842000      3                  2          15      11091   \n",
       "2                1394000      3                  1           9      18703   \n",
       "3                4305000      3                  1          25      12353   \n",
       "4                 829000      3                  1          20       5954   \n",
       "\n",
       "   vida_util_remanente  cve_clasificacion_zona  cve_vigilancia  \\\n",
       "0                   50                       2             NaN   \n",
       "1                   55                       3             1.0   \n",
       "2                   61                       3             1.0   \n",
       "3                   45                       4             NaN   \n",
       "4                   40                       3             NaN   \n",
       "\n",
       "    regimen_propiedad  tipo_vialidad  nivel_infraestructura table_names-4  \\\n",
       "0  PRIVADA INDIVIDUAL            NaN                    NaN          None   \n",
       "1  PRIVADA INDIVIDUAL            3.0                    NaN          None   \n",
       "2  PRIVADA INDIVIDUAL            2.0                    NaN          None   \n",
       "3  PRIVADA INDIVIDUAL            NaN                    NaN          None   \n",
       "4  PRIVADA INDIVIDUAL            NaN                    NaN          None   \n",
       "\n",
       "   cuenta_predial  id_uv  id_municipio  id_entidad_f  clave_controlador  \\\n",
       "0             NaN  30001            27             7             302349   \n",
       "1             NaN   9067           107             7            1844523   \n",
       "2             NaN   9067             8             3             408047   \n",
       "3             NaN   9068             3             9            1742315   \n",
       "4             NaN   9083            51            21            1844210   \n",
       "\n",
       "   clave_valuador id_otorgante     cp    latitud    longitud  recamaras  \\\n",
       "0          403733        30001  29160  16.665061  -92.949447          2   \n",
       "1          408526        40012  30535  16.137817  -93.000447          3   \n",
       "2         1641235        40012  23570  23.593706 -109.588844          1   \n",
       "3         1400027        30001   4600  19.310875  -99.158103          2   \n",
       "4         1639485        30001  74585  18.510228  -98.609661          4   \n",
       "\n",
       "   banos  medio_banos  estacionamiento  superficie_terreno  \\\n",
       "0      1            0                1                 267   \n",
       "1      1            0                3                 620   \n",
       "2      1            0                2                 561   \n",
       "3      1            0                0                 143   \n",
       "4      2            1                0                  93   \n",
       "\n",
       "   superficie_construida  superficie_accesoria  superficie_vendible  \\\n",
       "0                     83                     0                   83   \n",
       "1                    166                     0                  166   \n",
       "2                     74                     0                   74   \n",
       "3                    348                     0                  348   \n",
       "4                    139                     0                  139   \n",
       "\n",
       "   valor_fisico_terreno_m2  \n",
       "0                    490.0  \n",
       "1                   1142.0  \n",
       "2                   1278.9  \n",
       "3                   8918.0  \n",
       "4                   1398.0  "
      ]
     },
     "execution_count": 39,
     "metadata": {},
     "output_type": "execute_result"
    }
   ],
   "source": [
    "df_properties.head()"
   ]
  }
 ],
 "metadata": {
  "kernelspec": {
   "display_name": "dd3",
   "language": "python",
   "name": "python3"
  },
  "language_info": {
   "codemirror_mode": {
    "name": "ipython",
    "version": 3
   },
   "file_extension": ".py",
   "mimetype": "text/x-python",
   "name": "python",
   "nbconvert_exporter": "python",
   "pygments_lexer": "ipython3",
   "version": "3.1.-1"
  }
 },
 "nbformat": 4,
 "nbformat_minor": 2
}
