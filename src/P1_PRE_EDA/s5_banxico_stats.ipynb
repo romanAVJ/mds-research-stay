{
 "cells": [
  {
   "cell_type": "markdown",
   "metadata": {},
   "source": [
    "# Banxico SIE indexes\n",
    "\n",
    "@roman\n",
    "\n",
    "28 June, 2024"
   ]
  },
  {
   "cell_type": "code",
   "execution_count": 54,
   "metadata": {},
   "outputs": [],
   "source": [
    "import os\n",
    "import pandas as pd\n",
    "import numpy as np\n",
    "import matplotlib.pyplot as plt\n",
    "import seaborn as sns\n",
    "\n",
    "from INEGIpy import Indicadores\n",
    "from sie_banxico import SIEBanxico\n",
    "\n",
    "from datetime import datetime\n",
    "from dotenv import load_dotenv\n"
   ]
  },
  {
   "cell_type": "code",
   "execution_count": 55,
   "metadata": {},
   "outputs": [
    {
     "ename": "NameError",
     "evalue": "name 'config' is not defined",
     "output_type": "error",
     "traceback": [
      "\u001b[0;31m---------------------------------------------------------------------------\u001b[0m",
      "\u001b[0;31mNameError\u001b[0m                                 Traceback (most recent call last)",
      "Cell \u001b[0;32mIn[55], line 10\u001b[0m\n\u001b[1;32m      5\u001b[0m inegi_api \u001b[38;5;241m=\u001b[39m Indicadores(token\u001b[38;5;241m=\u001b[39mos\u001b[38;5;241m.\u001b[39mgetenv(\u001b[38;5;124m'\u001b[39m\u001b[38;5;124mAPI_INEGI\u001b[39m\u001b[38;5;124m'\u001b[39m))\n\u001b[1;32m      7\u001b[0m \u001b[38;5;66;03m# get data from Banxico\u001b[39;00m\n\u001b[1;32m      8\u001b[0m banxico_api \u001b[38;5;241m=\u001b[39m SIEBanxico(\n\u001b[1;32m      9\u001b[0m     token\u001b[38;5;241m=\u001b[39mos\u001b[38;5;241m.\u001b[39mgetenv(\u001b[38;5;124m'\u001b[39m\u001b[38;5;124mAPI_BANXICO\u001b[39m\u001b[38;5;124m'\u001b[39m),\n\u001b[0;32m---> 10\u001b[0m     id_series\u001b[38;5;241m=\u001b[39m\u001b[38;5;28mlist\u001b[39m(\u001b[43mconfig\u001b[49m[\u001b[38;5;124m'\u001b[39m\u001b[38;5;124mbanxico\u001b[39m\u001b[38;5;124m'\u001b[39m][\u001b[38;5;124m'\u001b[39m\u001b[38;5;124mseries\u001b[39m\u001b[38;5;124m'\u001b[39m]\u001b[38;5;241m.\u001b[39mvalues()),\n\u001b[1;32m     11\u001b[0m     language\u001b[38;5;241m=\u001b[39m\u001b[38;5;124m'\u001b[39m\u001b[38;5;124men\u001b[39m\u001b[38;5;124m'\u001b[39m\n\u001b[1;32m     12\u001b[0m )\n",
      "\u001b[0;31mNameError\u001b[0m: name 'config' is not defined"
     ]
    }
   ],
   "source": [
    "# load environment variables\n",
    "load_dotenv()\n",
    "\n",
    "# inegi class\n",
    "inegi_api = Indicadores(token=os.getenv('API_INEGI'))\n"
   ]
  },
  {
   "cell_type": "markdown",
   "metadata": {},
   "source": [
    "---\n",
    "# InegiPy Exploration"
   ]
  },
  {
   "cell_type": "markdown",
   "metadata": {},
   "source": [
    "## Indicadores"
   ]
  },
  {
   "cell_type": "code",
   "execution_count": 7,
   "metadata": {},
   "outputs": [
    {
     "name": "stdout",
     "output_type": "stream",
     "text": [
      "https://www.inegi.org.mx/app/api/indicadores/desarrolladores/jsonxml/CL_INDICATOR/null/es/BISE/2.0/b4f50704-61f4-4343-8aeb-79c7e12761c4/?type=json\n"
     ]
    },
    {
     "data": {
      "text/html": [
       "<div>\n",
       "<style scoped>\n",
       "    .dataframe tbody tr th:only-of-type {\n",
       "        vertical-align: middle;\n",
       "    }\n",
       "\n",
       "    .dataframe tbody tr th {\n",
       "        vertical-align: top;\n",
       "    }\n",
       "\n",
       "    .dataframe thead th {\n",
       "        text-align: right;\n",
       "    }\n",
       "</style>\n",
       "<table border=\"1\" class=\"dataframe\">\n",
       "  <thead>\n",
       "    <tr style=\"text-align: right;\">\n",
       "      <th></th>\n",
       "      <th>value</th>\n",
       "      <th>Description</th>\n",
       "    </tr>\n",
       "  </thead>\n",
       "  <tbody>\n",
       "    <tr>\n",
       "      <th>0</th>\n",
       "      <td>472079</td>\n",
       "      <td>Total nacional</td>\n",
       "    </tr>\n",
       "    <tr>\n",
       "      <th>1</th>\n",
       "      <td>472112</td>\n",
       "      <td>Total nacional</td>\n",
       "    </tr>\n",
       "    <tr>\n",
       "      <th>2</th>\n",
       "      <td>472145</td>\n",
       "      <td>Total nacional</td>\n",
       "    </tr>\n",
       "    <tr>\n",
       "      <th>3</th>\n",
       "      <td>472178</td>\n",
       "      <td>Total nacional</td>\n",
       "    </tr>\n",
       "    <tr>\n",
       "      <th>4</th>\n",
       "      <td>472211</td>\n",
       "      <td>Total nacional</td>\n",
       "    </tr>\n",
       "  </tbody>\n",
       "</table>\n",
       "</div>"
      ],
      "text/plain": [
       "    value     Description\n",
       "0  472079  Total nacional\n",
       "1  472112  Total nacional\n",
       "2  472145  Total nacional\n",
       "3  472178  Total nacional\n",
       "4  472211  Total nacional"
      ]
     },
     "metadata": {},
     "output_type": "display_data"
    }
   ],
   "source": [
    "# see bise catalogue\n",
    "indicadores = inegi_api.catalogo_indicadores('BISE')"
   ]
  },
  {
   "cell_type": "code",
   "execution_count": 13,
   "metadata": {},
   "outputs": [
    {
     "name": "stdout",
     "output_type": "stream",
     "text": [
      "https://www.inegi.org.mx/app/api/indicadores/desarrolladores/jsonxml/CL_INDICATOR/null/es/BISE/2.0/b4f50704-61f4-4343-8aeb-79c7e12761c4/?type=json\n"
     ]
    },
    {
     "data": {
      "text/html": [
       "<div>\n",
       "<style scoped>\n",
       "    .dataframe tbody tr th:only-of-type {\n",
       "        vertical-align: middle;\n",
       "    }\n",
       "\n",
       "    .dataframe tbody tr th {\n",
       "        vertical-align: top;\n",
       "    }\n",
       "\n",
       "    .dataframe thead th {\n",
       "        text-align: right;\n",
       "    }\n",
       "</style>\n",
       "<table border=\"1\" class=\"dataframe\">\n",
       "  <thead>\n",
       "    <tr style=\"text-align: right;\">\n",
       "      <th></th>\n",
       "      <th>value</th>\n",
       "      <th>Description</th>\n",
       "    </tr>\n",
       "  </thead>\n",
       "  <tbody>\n",
       "    <tr>\n",
       "      <th>0</th>\n",
       "      <td>472079</td>\n",
       "      <td>Total nacional</td>\n",
       "    </tr>\n",
       "    <tr>\n",
       "      <th>1</th>\n",
       "      <td>472112</td>\n",
       "      <td>Total nacional</td>\n",
       "    </tr>\n",
       "    <tr>\n",
       "      <th>2</th>\n",
       "      <td>472145</td>\n",
       "      <td>Total nacional</td>\n",
       "    </tr>\n",
       "    <tr>\n",
       "      <th>3</th>\n",
       "      <td>472178</td>\n",
       "      <td>Total nacional</td>\n",
       "    </tr>\n",
       "    <tr>\n",
       "      <th>4</th>\n",
       "      <td>472211</td>\n",
       "      <td>Total nacional</td>\n",
       "    </tr>\n",
       "  </tbody>\n",
       "</table>\n",
       "</div>"
      ],
      "text/plain": [
       "    value     Description\n",
       "0  472079  Total nacional\n",
       "1  472112  Total nacional\n",
       "2  472145  Total nacional\n",
       "3  472178  Total nacional\n",
       "4  472211  Total nacional"
      ]
     },
     "metadata": {},
     "output_type": "display_data"
    }
   ],
   "source": [
    "# see bise catalogue\n",
    "indicadores = inegi_api.catalogo_indicadores('BISE')\n",
    "\n",
    "display(indicadores.head())"
   ]
  },
  {
   "cell_type": "code",
   "execution_count": 24,
   "metadata": {},
   "outputs": [
    {
     "data": {
      "text/html": [
       "<div>\n",
       "<style scoped>\n",
       "    .dataframe tbody tr th:only-of-type {\n",
       "        vertical-align: middle;\n",
       "    }\n",
       "\n",
       "    .dataframe tbody tr th {\n",
       "        vertical-align: top;\n",
       "    }\n",
       "\n",
       "    .dataframe thead th {\n",
       "        text-align: right;\n",
       "    }\n",
       "</style>\n",
       "<table border=\"1\" class=\"dataframe\">\n",
       "  <thead>\n",
       "    <tr style=\"text-align: right;\">\n",
       "      <th></th>\n",
       "      <th>value</th>\n",
       "      <th>Description</th>\n",
       "    </tr>\n",
       "  </thead>\n",
       "  <tbody>\n",
       "    <tr>\n",
       "      <th>21716</th>\n",
       "      <td>6204482218</td>\n",
       "      <td>INC. Series originales. Inflación</td>\n",
       "    </tr>\n",
       "    <tr>\n",
       "      <th>21717</th>\n",
       "      <td>6204482221</td>\n",
       "      <td>INC. Variables indexadas. Inflación</td>\n",
       "    </tr>\n",
       "    <tr>\n",
       "      <th>21719</th>\n",
       "      <td>6204482223</td>\n",
       "      <td>INC. Series originales. Tipo de cambio FIX real</td>\n",
       "    </tr>\n",
       "    <tr>\n",
       "      <th>21725</th>\n",
       "      <td>6204482231</td>\n",
       "      <td>INC. Variables indexadas. Inflación</td>\n",
       "    </tr>\n",
       "  </tbody>\n",
       "</table>\n",
       "</div>"
      ],
      "text/plain": [
       "            value                                      Description\n",
       "21716  6204482218                INC. Series originales. Inflación\n",
       "21717  6204482221              INC. Variables indexadas. Inflación\n",
       "21719  6204482223  INC. Series originales. Tipo de cambio FIX real\n",
       "21725  6204482231              INC. Variables indexadas. Inflación"
      ]
     },
     "execution_count": 24,
     "metadata": {},
     "output_type": "execute_result"
    }
   ],
   "source": [
    "series_values_list = [\n",
    "    '6204482218', '6204482221', '6204482223', '6204482231'\n",
    "]\n",
    "indicadores.query(\"value.isin(@series_values_list)\")"
   ]
  },
  {
   "cell_type": "markdown",
   "metadata": {},
   "source": [
    "## Get INPC"
   ]
  },
  {
   "cell_type": "markdown",
   "metadata": {},
   "source": [
    "### trial 1: '583731'"
   ]
  },
  {
   "cell_type": "code",
   "execution_count": 28,
   "metadata": {},
   "outputs": [
    {
     "name": "stderr",
     "output_type": "stream",
     "text": [
      "/Users/ravj/opt/anaconda3/envs/mds-research-stay/lib/python3.10/site-packages/INEGIpy/_indicadores.py:108: UserWarning: Could not infer format, so each element will be parsed individually, falling back to `dateutil`. To ensure parsing is consistent and as-expected, please specify a format.\n",
      "  df.set_index(pd.to_datetime(df.fechas),inplace=True, drop=True)\n"
     ]
    },
    {
     "data": {
      "text/html": [
       "<div>\n",
       "<style scoped>\n",
       "    .dataframe tbody tr th:only-of-type {\n",
       "        vertical-align: middle;\n",
       "    }\n",
       "\n",
       "    .dataframe tbody tr th {\n",
       "        vertical-align: top;\n",
       "    }\n",
       "\n",
       "    .dataframe thead th {\n",
       "        text-align: right;\n",
       "    }\n",
       "</style>\n",
       "<table border=\"1\" class=\"dataframe\">\n",
       "  <thead>\n",
       "    <tr style=\"text-align: right;\">\n",
       "      <th></th>\n",
       "      <th>583731</th>\n",
       "    </tr>\n",
       "    <tr>\n",
       "      <th>fechas</th>\n",
       "      <th></th>\n",
       "    </tr>\n",
       "  </thead>\n",
       "  <tbody>\n",
       "    <tr>\n",
       "      <th>1969-01-01</th>\n",
       "      <td>0.011595</td>\n",
       "    </tr>\n",
       "    <tr>\n",
       "      <th>1969-02-01</th>\n",
       "      <td>0.011636</td>\n",
       "    </tr>\n",
       "    <tr>\n",
       "      <th>1969-03-01</th>\n",
       "      <td>0.011648</td>\n",
       "    </tr>\n",
       "    <tr>\n",
       "      <th>1969-04-01</th>\n",
       "      <td>0.011680</td>\n",
       "    </tr>\n",
       "    <tr>\n",
       "      <th>1969-05-01</th>\n",
       "      <td>0.011680</td>\n",
       "    </tr>\n",
       "    <tr>\n",
       "      <th>...</th>\n",
       "      <td>...</td>\n",
       "    </tr>\n",
       "    <tr>\n",
       "      <th>2024-01-01</th>\n",
       "      <td>133.555000</td>\n",
       "    </tr>\n",
       "    <tr>\n",
       "      <th>2024-02-01</th>\n",
       "      <td>133.681000</td>\n",
       "    </tr>\n",
       "    <tr>\n",
       "      <th>2024-03-01</th>\n",
       "      <td>134.065000</td>\n",
       "    </tr>\n",
       "    <tr>\n",
       "      <th>2024-04-01</th>\n",
       "      <td>134.336000</td>\n",
       "    </tr>\n",
       "    <tr>\n",
       "      <th>2024-05-01</th>\n",
       "      <td>134.087000</td>\n",
       "    </tr>\n",
       "  </tbody>\n",
       "</table>\n",
       "<p>665 rows × 1 columns</p>\n",
       "</div>"
      ],
      "text/plain": [
       "                583731\n",
       "fechas                \n",
       "1969-01-01    0.011595\n",
       "1969-02-01    0.011636\n",
       "1969-03-01    0.011648\n",
       "1969-04-01    0.011680\n",
       "1969-05-01    0.011680\n",
       "...                ...\n",
       "2024-01-01  133.555000\n",
       "2024-02-01  133.681000\n",
       "2024-03-01  134.065000\n",
       "2024-04-01  134.336000\n",
       "2024-05-01  134.087000\n",
       "\n",
       "[665 rows x 1 columns]"
      ]
     },
     "execution_count": 28,
     "metadata": {},
     "output_type": "execute_result"
    }
   ],
   "source": [
    "# get inpc\n",
    "df_inpc, metadatos = inegi_api.obtener_df(\n",
    "    indicadores='583731',\n",
    "    metadatos=True,\n",
    "\n",
    ")\n",
    "df_inpc"
   ]
  },
  {
   "cell_type": "code",
   "execution_count": 29,
   "metadata": {},
   "outputs": [
    {
     "name": "stdout",
     "output_type": "stream",
     "text": [
      "https://www.inegi.org.mx/app/api/indicadores/desarrolladores/jsonxml/CL_INDICATOR/583731/es/BIE/2.0/b4f50704-61f4-4343-8aeb-79c7e12761c4/?type=json\n",
      "https://www.inegi.org.mx/app/api/indicadores/desarrolladores/jsonxml/CL_FREQ/8/es/BIE/2.0/b4f50704-61f4-4343-8aeb-79c7e12761c4/?type=json\n",
      "https://www.inegi.org.mx/app/api/indicadores/desarrolladores/jsonxml/CL_TOPIC/11200130002000200010/es/BIE/2.0/b4f50704-61f4-4343-8aeb-79c7e12761c4/?type=json\n",
      "https://www.inegi.org.mx/app/api/indicadores/desarrolladores/jsonxml/CL_UNIT/321/es/BIE/2.0/b4f50704-61f4-4343-8aeb-79c7e12761c4/?type=json\n",
      "https://www.inegi.org.mx/app/api/indicadores/desarrolladores/jsonxml/CL_SOURCE/127/es/BIE/2.0/b4f50704-61f4-4343-8aeb-79c7e12761c4/?type=json\n"
     ]
    },
    {
     "data": {
      "text/html": [
       "<div>\n",
       "<style scoped>\n",
       "    .dataframe tbody tr th:only-of-type {\n",
       "        vertical-align: middle;\n",
       "    }\n",
       "\n",
       "    .dataframe tbody tr th {\n",
       "        vertical-align: top;\n",
       "    }\n",
       "\n",
       "    .dataframe thead th {\n",
       "        text-align: right;\n",
       "    }\n",
       "</style>\n",
       "<table border=\"1\" class=\"dataframe\">\n",
       "  <thead>\n",
       "    <tr style=\"text-align: right;\">\n",
       "      <th></th>\n",
       "      <th>583731</th>\n",
       "    </tr>\n",
       "  </thead>\n",
       "  <tbody>\n",
       "    <tr>\n",
       "      <th>INDICADOR</th>\n",
       "      <td>Precios al Consumidor (INPC)</td>\n",
       "    </tr>\n",
       "    <tr>\n",
       "      <th>FREQ</th>\n",
       "      <td>Mensual</td>\n",
       "    </tr>\n",
       "    <tr>\n",
       "      <th>TOPIC</th>\n",
       "      <td>Precios al Consumidor (INPC)</td>\n",
       "    </tr>\n",
       "    <tr>\n",
       "      <th>UNIT</th>\n",
       "      <td>Índice base segunda quincena de julio 2018 = 100</td>\n",
       "    </tr>\n",
       "    <tr>\n",
       "      <th>UNIT_MULT</th>\n",
       "      <td>None</td>\n",
       "    </tr>\n",
       "    <tr>\n",
       "      <th>NOTE</th>\n",
       "      <td></td>\n",
       "    </tr>\n",
       "    <tr>\n",
       "      <th>SOURCE</th>\n",
       "      <td>INEGI. Índices de precios.</td>\n",
       "    </tr>\n",
       "    <tr>\n",
       "      <th>LASTUPDATE</th>\n",
       "      <td>07/06/2024 12:10:11 p. m.</td>\n",
       "    </tr>\n",
       "    <tr>\n",
       "      <th>STATUS</th>\n",
       "      <td>None</td>\n",
       "    </tr>\n",
       "    <tr>\n",
       "      <th>BANCO</th>\n",
       "      <td>BIE</td>\n",
       "    </tr>\n",
       "  </tbody>\n",
       "</table>\n",
       "</div>"
      ],
      "text/plain": [
       "                                                      583731\n",
       "INDICADOR                       Precios al Consumidor (INPC)\n",
       "FREQ                                                 Mensual\n",
       "TOPIC                           Precios al Consumidor (INPC)\n",
       "UNIT        Índice base segunda quincena de julio 2018 = 100\n",
       "UNIT_MULT                                               None\n",
       "NOTE                                                        \n",
       "SOURCE                            INEGI. Índices de precios.\n",
       "LASTUPDATE                         07/06/2024 12:10:11 p. m.\n",
       "STATUS                                                  None\n",
       "BANCO                                                    BIE"
      ]
     },
     "execution_count": 29,
     "metadata": {},
     "output_type": "execute_result"
    }
   ],
   "source": [
    "inegi_api.consulta_metadatos(metadatos)"
   ]
  },
  {
   "cell_type": "markdown",
   "metadata": {},
   "source": [
    "### trial 2: "
   ]
  },
  {
   "cell_type": "code",
   "execution_count": 30,
   "metadata": {},
   "outputs": [
    {
     "name": "stderr",
     "output_type": "stream",
     "text": [
      "/Users/ravj/opt/anaconda3/envs/mds-research-stay/lib/python3.10/site-packages/INEGIpy/_indicadores.py:108: UserWarning: Could not infer format, so each element will be parsed individually, falling back to `dateutil`. To ensure parsing is consistent and as-expected, please specify a format.\n",
      "  df.set_index(pd.to_datetime(df.fechas),inplace=True, drop=True)\n"
     ]
    },
    {
     "name": "stdout",
     "output_type": "stream",
     "text": [
      "https://www.inegi.org.mx/app/api/indicadores/desarrolladores/jsonxml/CL_INDICATOR/628194/es/BIE/2.0/b4f50704-61f4-4343-8aeb-79c7e12761c4/?type=json\n",
      "https://www.inegi.org.mx/app/api/indicadores/desarrolladores/jsonxml/CL_FREQ/8/es/BIE/2.0/b4f50704-61f4-4343-8aeb-79c7e12761c4/?type=json\n",
      "https://www.inegi.org.mx/app/api/indicadores/desarrolladores/jsonxml/CL_TOPIC/100005000015002000400035/es/BIE/2.0/b4f50704-61f4-4343-8aeb-79c7e12761c4/?type=json\n",
      "https://www.inegi.org.mx/app/api/indicadores/desarrolladores/jsonxml/CL_UNIT/321/es/BIE/2.0/b4f50704-61f4-4343-8aeb-79c7e12761c4/?type=json\n",
      "https://www.inegi.org.mx/app/api/indicadores/desarrolladores/jsonxml/CL_SOURCE/127/es/BIE/2.0/b4f50704-61f4-4343-8aeb-79c7e12761c4/?type=json\n"
     ]
    },
    {
     "data": {
      "text/plain": [
       "(                628194\n",
       " fechas                \n",
       " 1969-01-01    0.011595\n",
       " 1969-02-01    0.011636\n",
       " 1969-03-01    0.011648\n",
       " 1969-04-01    0.011680\n",
       " 1969-05-01    0.011680\n",
       " ...                ...\n",
       " 2024-01-01  133.555000\n",
       " 2024-02-01  133.681000\n",
       " 2024-03-01  134.065000\n",
       " 2024-04-01  134.336000\n",
       " 2024-05-01  134.087000\n",
       " \n",
       " [665 rows x 1 columns],\n",
       "                                                       628194\n",
       " INDICADOR                                     Índice general\n",
       " FREQ                                                 Mensual\n",
       " TOPIC                                         Índice general\n",
       " UNIT        Índice base segunda quincena de julio 2018 = 100\n",
       " UNIT_MULT                                               None\n",
       " NOTE                                                        \n",
       " SOURCE                            INEGI. Índices de precios.\n",
       " LASTUPDATE                         07/06/2024 12:10:11 p. m.\n",
       " STATUS                                                  None\n",
       " BANCO                                                    BIE)"
      ]
     },
     "execution_count": 30,
     "metadata": {},
     "output_type": "execute_result"
    }
   ],
   "source": [
    "# get inpc\n",
    "df_inpc, metadatos = inegi_api.obtener_df(\n",
    "    indicadores='628194',\n",
    "    metadatos=True,\n",
    "\n",
    ")\n",
    "df_inpc, inegi_api.consulta_metadatos(metadatos)"
   ]
  },
  {
   "cell_type": "markdown",
   "metadata": {},
   "source": [
    "### trial 3: granularity\n",
    "\n",
    "[Here](https://www.inegi.org.mx/app/tabulados/default.aspx?nc=ca61_2018&idrt=137&opc=t) is the link to the INPC data by state, however, data is not easy to download. There are 55 cities."
   ]
  },
  {
   "cell_type": "code",
   "execution_count": 52,
   "metadata": {},
   "outputs": [
    {
     "name": "stderr",
     "output_type": "stream",
     "text": [
      "/Users/ravj/opt/anaconda3/envs/mds-research-stay/lib/python3.10/site-packages/INEGIpy/_indicadores.py:108: UserWarning: Could not infer format, so each element will be parsed individually, falling back to `dateutil`. To ensure parsing is consistent and as-expected, please specify a format.\n",
      "  df.set_index(pd.to_datetime(df.fechas),inplace=True, drop=True)\n"
     ]
    },
    {
     "name": "stdout",
     "output_type": "stream",
     "text": [
      "https://www.inegi.org.mx/app/api/indicadores/desarrolladores/jsonxml/CL_INDICATOR/590684/es/BIE/2.0/b4f50704-61f4-4343-8aeb-79c7e12761c4/?type=json\n",
      "https://www.inegi.org.mx/app/api/indicadores/desarrolladores/jsonxml/CL_FREQ/8/es/BIE/2.0/b4f50704-61f4-4343-8aeb-79c7e12761c4/?type=json\n",
      "https://www.inegi.org.mx/app/api/indicadores/desarrolladores/jsonxml/CL_TOPIC/112001300070004000100010/es/BIE/2.0/b4f50704-61f4-4343-8aeb-79c7e12761c4/?type=json\n",
      "https://www.inegi.org.mx/app/api/indicadores/desarrolladores/jsonxml/CL_UNIT/321/es/BIE/2.0/b4f50704-61f4-4343-8aeb-79c7e12761c4/?type=json\n",
      "https://www.inegi.org.mx/app/api/indicadores/desarrolladores/jsonxml/CL_SOURCE/127/es/BIE/2.0/b4f50704-61f4-4343-8aeb-79c7e12761c4/?type=json\n"
     ]
    },
    {
     "data": {
      "text/plain": [
       "(             590684\n",
       " fechas             \n",
       " 2018-08-01  100.374\n",
       " 2018-09-01  100.926\n",
       " 2018-10-01  100.955\n",
       " 2018-11-01  101.703\n",
       " 2018-12-01  102.979\n",
       " ...             ...\n",
       " 2024-01-01  132.772\n",
       " 2024-02-01  132.157\n",
       " 2024-03-01  132.791\n",
       " 2024-04-01  134.286\n",
       " 2024-05-01  134.334\n",
       " \n",
       " [70 rows x 1 columns],\n",
       "                                                       590684\n",
       " INDICADOR                                     Índice general\n",
       " FREQ                                                 Mensual\n",
       " TOPIC                                         Índice general\n",
       " UNIT        Índice base segunda quincena de julio 2018 = 100\n",
       " UNIT_MULT                                               None\n",
       " NOTE                                                        \n",
       " SOURCE                            INEGI. Índices de precios.\n",
       " LASTUPDATE                         07/06/2024 12:10:11 p. m.\n",
       " STATUS                                                  None\n",
       " BANCO                                                    BIE)"
      ]
     },
     "execution_count": 52,
     "metadata": {},
     "output_type": "execute_result"
    }
   ],
   "source": [
    "# get inpc\n",
    "df_inpc, metadatos = inegi_api.obtener_df(\n",
    "    indicadores='590684',\n",
    "    metadatos=True,\n",
    ")\n",
    "df_inpc, inegi_api.consulta_metadatos(metadatos)"
   ]
  },
  {
   "cell_type": "markdown",
   "metadata": {},
   "source": [
    "---\n",
    "# Banxico SIE"
   ]
  },
  {
   "cell_type": "markdown",
   "metadata": {},
   "source": [
    "## Minimum Wage"
   ]
  },
  {
   "cell_type": "code",
   "execution_count": 60,
   "metadata": {},
   "outputs": [
    {
     "data": {
      "text/plain": [
       "['SL11296', 'SL11297']"
      ]
     },
     "execution_count": 60,
     "metadata": {},
     "output_type": "execute_result"
    }
   ],
   "source": [
    "list(minimum_wage_data.values())"
   ]
  },
  {
   "cell_type": "code",
   "execution_count": 61,
   "metadata": {},
   "outputs": [],
   "source": [
    "# get data from Banxico\n",
    "minimum_wage_data = {\n",
    "    'no_border_north': 'SL11296',\n",
    "    'general': 'SL11297',\n",
    "\n",
    "}\n",
    "banxico_api = SIEBanxico(\n",
    "    token=os.getenv('API_BANXICO'),\n",
    "    id_series=list(minimum_wage_data.values()),\n",
    "    language='en'\n",
    ")"
   ]
  },
  {
   "cell_type": "code",
   "execution_count": 62,
   "metadata": {},
   "outputs": [
    {
     "data": {
      "text/plain": [
       "{'bmx': {'series': [{'idSerie': 'SL11297',\n",
       "    'titulo': 'Minimum Wages National Real Index Dec2018=100',\n",
       "    'fechaInicio': '01/01/1969',\n",
       "    'fechaFin': '05/01/2024',\n",
       "    'periodicidad': 'Monthly',\n",
       "    'cifra': 'Indexes',\n",
       "    'unidad': 'Without units',\n",
       "    'versionada': False},\n",
       "   {'idSerie': 'SL11296',\n",
       "    'titulo': 'Minimum Wages Northern Border Free Zone Real Index Dec2018=100',\n",
       "    'fechaInicio': '10/01/2015',\n",
       "    'fechaFin': '05/01/2024',\n",
       "    'periodicidad': 'Monthly',\n",
       "    'cifra': 'Indexes',\n",
       "    'unidad': 'Without units',\n",
       "    'versionada': False}]}}"
      ]
     },
     "execution_count": 62,
     "metadata": {},
     "output_type": "execute_result"
    }
   ],
   "source": [
    "# see metadata\n",
    "banxico_api.get_metadata()"
   ]
  },
  {
   "cell_type": "code",
   "execution_count": 64,
   "metadata": {},
   "outputs": [
    {
     "data": {
      "text/plain": [
       "{'bmx': {'series': [{'idSerie': 'SL11297',\n",
       "    'titulo': 'Minimum Wages National Real Index Dec2018=100',\n",
       "    'datos': [{'fecha': '01/01/2019', 'dato': '116.1072'},\n",
       "     {'fecha': '01/02/2019', 'dato': '116.1399'},\n",
       "     {'fecha': '01/03/2019', 'dato': '115.6943'},\n",
       "     {'fecha': '01/04/2019', 'dato': '115.6329'},\n",
       "     {'fecha': '01/05/2019', 'dato': '115.9667'},\n",
       "     {'fecha': '01/06/2019', 'dato': '115.8926'},\n",
       "     {'fecha': '01/07/2019', 'dato': '115.4589'},\n",
       "     {'fecha': '01/08/2019', 'dato': '115.4778'},\n",
       "     {'fecha': '01/09/2019', 'dato': '115.1756'},\n",
       "     {'fecha': '01/10/2019', 'dato': '114.5573'},\n",
       "     {'fecha': '01/11/2019', 'dato': '113.6406'},\n",
       "     {'fecha': '01/12/2019', 'dato': '113.0099'},\n",
       "     {'fecha': '01/01/2020', 'dato': '134.9627'},\n",
       "     {'fecha': '01/02/2020', 'dato': '134.4046'},\n",
       "     {'fecha': '01/03/2020', 'dato': '134.4687'},\n",
       "     {'fecha': '01/04/2020', 'dato': '135.8458'},\n",
       "     {'fecha': '01/05/2020', 'dato': '135.3250'},\n",
       "     {'fecha': '01/06/2020', 'dato': '134.5884'},\n",
       "     {'fecha': '01/07/2020', 'dato': '133.7103'},\n",
       "     {'fecha': '01/08/2020', 'dato': '133.1860'},\n",
       "     {'fecha': '01/09/2020', 'dato': '132.8817'},\n",
       "     {'fecha': '01/10/2020', 'dato': '132.0754'},\n",
       "     {'fecha': '01/11/2020', 'dato': '131.9759'},\n",
       "     {'fecha': '01/12/2020', 'dato': '131.4747'},\n",
       "     {'fecha': '01/01/2021', 'dato': '149.9045'},\n",
       "     {'fecha': '01/02/2021', 'dato': '148.9624'},\n",
       "     {'fecha': '01/03/2021', 'dato': '147.7409'},\n",
       "     {'fecha': '01/04/2021', 'dato': '147.2589'},\n",
       "     {'fecha': '01/05/2021', 'dato': '146.9589'},\n",
       "     {'fecha': '01/06/2021', 'dato': '146.1800'},\n",
       "     {'fecha': '01/07/2021', 'dato': '145.3262'},\n",
       "     {'fecha': '01/08/2021', 'dato': '145.0493'},\n",
       "     {'fecha': '01/09/2021', 'dato': '144.1608'},\n",
       "     {'fecha': '01/10/2021', 'dato': '142.9632'},\n",
       "     {'fecha': '01/11/2021', 'dato': '141.3451'},\n",
       "     {'fecha': '01/12/2021', 'dato': '140.8342'},\n",
       "     {'fecha': '01/01/2022', 'dato': '170.8032'},\n",
       "     {'fecha': '01/02/2022', 'dato': '169.3978'},\n",
       "     {'fecha': '01/03/2022', 'dato': '167.7371'},\n",
       "     {'fecha': '01/04/2022', 'dato': '166.8346'},\n",
       "     {'fecha': '01/05/2022', 'dato': '166.5410'},\n",
       "     {'fecha': '01/06/2022', 'dato': '165.1464'},\n",
       "     {'fecha': '01/07/2022', 'dato': '163.9321'},\n",
       "     {'fecha': '01/08/2022', 'dato': '162.8000'},\n",
       "     {'fecha': '01/09/2022', 'dato': '161.7963'},\n",
       "     {'fecha': '01/10/2022', 'dato': '160.8858'},\n",
       "     {'fecha': '01/11/2022', 'dato': '159.9651'},\n",
       "     {'fecha': '01/12/2022', 'dato': '159.3568'},\n",
       "     {'fecha': '01/01/2023', 'dato': '189.9359'},\n",
       "     {'fecha': '01/02/2023', 'dato': '188.8828'},\n",
       "     {'fecha': '01/03/2023', 'dato': '188.3781'},\n",
       "     {'fecha': '01/04/2023', 'dato': '188.4163'},\n",
       "     {'fecha': '01/05/2023', 'dato': '188.8267'},\n",
       "     {'fecha': '01/06/2023', 'dato': '188.6353'},\n",
       "     {'fecha': '01/07/2023', 'dato': '187.7304'},\n",
       "     {'fecha': '01/08/2023', 'dato': '186.6971'},\n",
       "     {'fecha': '01/09/2023', 'dato': '185.8721'},\n",
       "     {'fecha': '01/10/2023', 'dato': '185.1762'},\n",
       "     {'fecha': '01/11/2023', 'dato': '183.9985'},\n",
       "     {'fecha': '01/12/2023', 'dato': '182.7086'},\n",
       "     {'fecha': '01/01/2024', 'dato': '217.3116'},\n",
       "     {'fecha': '01/02/2024', 'dato': '217.1068'},\n",
       "     {'fecha': '01/03/2024', 'dato': '216.4849'},\n",
       "     {'fecha': '01/04/2024', 'dato': '216.0482'},\n",
       "     {'fecha': '01/05/2024', 'dato': '216.4494'}]},\n",
       "   {'idSerie': 'SL11296',\n",
       "    'titulo': 'Minimum Wages Northern Border Free Zone Real Index Dec2018=100',\n",
       "    'datos': [{'fecha': '01/01/2019', 'dato': '199.8293'},\n",
       "     {'fecha': '01/02/2019', 'dato': '199.8855'},\n",
       "     {'fecha': '01/03/2019', 'dato': '199.1186'},\n",
       "     {'fecha': '01/04/2019', 'dato': '199.0129'},\n",
       "     {'fecha': '01/05/2019', 'dato': '199.5873'},\n",
       "     {'fecha': '01/06/2019', 'dato': '199.4598'},\n",
       "     {'fecha': '01/07/2019', 'dato': '198.7134'},\n",
       "     {'fecha': '01/08/2019', 'dato': '198.7460'},\n",
       "     {'fecha': '01/09/2019', 'dato': '198.2259'},\n",
       "     {'fecha': '01/10/2019', 'dato': '197.1618'},\n",
       "     {'fecha': '01/11/2019', 'dato': '195.5841'},\n",
       "     {'fecha': '01/12/2019', 'dato': '194.4985'},\n",
       "     {'fecha': '01/01/2020', 'dato': '203.2436'},\n",
       "     {'fecha': '01/02/2020', 'dato': '202.4031'},\n",
       "     {'fecha': '01/03/2020', 'dato': '202.4997'},\n",
       "     {'fecha': '01/04/2020', 'dato': '204.5735'},\n",
       "     {'fecha': '01/05/2020', 'dato': '203.7892'},\n",
       "     {'fecha': '01/06/2020', 'dato': '202.6800'},\n",
       "     {'fecha': '01/07/2020', 'dato': '201.3576'},\n",
       "     {'fecha': '01/08/2020', 'dato': '200.5680'},\n",
       "     {'fecha': '01/09/2020', 'dato': '200.1098'},\n",
       "     {'fecha': '01/10/2020', 'dato': '198.8956'},\n",
       "     {'fecha': '01/11/2020', 'dato': '198.7457'},\n",
       "     {'fecha': '01/12/2020', 'dato': '197.9909'},\n",
       "     {'fecha': '01/01/2021', 'dato': '225.7454'},\n",
       "     {'fecha': '01/02/2021', 'dato': '224.3267'},\n",
       "     {'fecha': '01/03/2021', 'dato': '222.4871'},\n",
       "     {'fecha': '01/04/2021', 'dato': '221.7613'},\n",
       "     {'fecha': '01/05/2021', 'dato': '221.3096'},\n",
       "     {'fecha': '01/06/2021', 'dato': '220.1366'},\n",
       "     {'fecha': '01/07/2021', 'dato': '218.8508'},\n",
       "     {'fecha': '01/08/2021', 'dato': '218.4339'},\n",
       "     {'fecha': '01/09/2021', 'dato': '217.0958'},\n",
       "     {'fecha': '01/10/2021', 'dato': '215.2924'},\n",
       "     {'fecha': '01/11/2021', 'dato': '212.8555'},\n",
       "     {'fecha': '01/12/2021', 'dato': '212.0861'},\n",
       "     {'fecha': '01/01/2022', 'dato': '257.2275'},\n",
       "     {'fecha': '01/02/2022', 'dato': '255.1110'},\n",
       "     {'fecha': '01/03/2022', 'dato': '252.6099'},\n",
       "     {'fecha': '01/04/2022', 'dato': '251.2508'},\n",
       "     {'fecha': '01/05/2022', 'dato': '250.8086'},\n",
       "     {'fecha': '01/06/2022', 'dato': '248.7083'},\n",
       "     {'fecha': '01/07/2022', 'dato': '246.8796'},\n",
       "     {'fecha': '01/08/2022', 'dato': '245.1747'},\n",
       "     {'fecha': '01/09/2022', 'dato': '243.6631'},\n",
       "     {'fecha': '01/10/2022', 'dato': '242.2919'},\n",
       "     {'fecha': '01/11/2022', 'dato': '240.9054'},\n",
       "     {'fecha': '01/12/2022', 'dato': '239.9892'},\n",
       "     {'fecha': '01/01/2023', 'dato': '286.0484'},\n",
       "     {'fecha': '01/02/2023', 'dato': '284.4623'},\n",
       "     {'fecha': '01/03/2023', 'dato': '283.7024'},\n",
       "     {'fecha': '01/04/2023', 'dato': '283.7598'},\n",
       "     {'fecha': '01/05/2023', 'dato': '284.3779'},\n",
       "     {'fecha': '01/06/2023', 'dato': '284.0896'},\n",
       "     {'fecha': '01/07/2023', 'dato': '282.7268'},\n",
       "     {'fecha': '01/08/2023', 'dato': '281.1707'},\n",
       "     {'fecha': '01/09/2023', 'dato': '279.9282'},\n",
       "     {'fecha': '01/10/2023', 'dato': '278.8802'},\n",
       "     {'fecha': '01/11/2023', 'dato': '277.1065'},\n",
       "     {'fecha': '01/12/2023', 'dato': '275.1638'},\n",
       "     {'fecha': '01/01/2024', 'dato': '327.2725'},\n",
       "     {'fecha': '01/02/2024', 'dato': '326.9641'},\n",
       "     {'fecha': '01/03/2024', 'dato': '326.0275'},\n",
       "     {'fecha': '01/04/2024', 'dato': '325.3698'},\n",
       "     {'fecha': '01/05/2024', 'dato': '325.9740'}]}]}}"
      ]
     },
     "execution_count": 64,
     "metadata": {},
     "output_type": "execute_result"
    }
   ],
   "source": [
    "# consult data\n",
    "today = datetime.today().strftime('%Y-%m-%d')\n",
    "series_data = banxico_api.get_timeseries_range(\n",
    "    init_date='2019-01-01',\n",
    "    end_date=today\n",
    ")\n",
    "series_data"
   ]
  },
  {
   "cell_type": "code",
   "execution_count": 66,
   "metadata": {},
   "outputs": [
    {
     "data": {
      "text/html": [
       "<div>\n",
       "<style scoped>\n",
       "    .dataframe tbody tr th:only-of-type {\n",
       "        vertical-align: middle;\n",
       "    }\n",
       "\n",
       "    .dataframe tbody tr th {\n",
       "        vertical-align: top;\n",
       "    }\n",
       "\n",
       "    .dataframe thead th {\n",
       "        text-align: right;\n",
       "    }\n",
       "</style>\n",
       "<table border=\"1\" class=\"dataframe\">\n",
       "  <thead>\n",
       "    <tr style=\"text-align: right;\">\n",
       "      <th></th>\n",
       "      <th>SL11297</th>\n",
       "      <th>SL11296</th>\n",
       "    </tr>\n",
       "    <tr>\n",
       "      <th>date</th>\n",
       "      <th></th>\n",
       "      <th></th>\n",
       "    </tr>\n",
       "  </thead>\n",
       "  <tbody>\n",
       "    <tr>\n",
       "      <th>2019-01-01</th>\n",
       "      <td>116.1072</td>\n",
       "      <td>199.8293</td>\n",
       "    </tr>\n",
       "    <tr>\n",
       "      <th>2019-02-01</th>\n",
       "      <td>116.1399</td>\n",
       "      <td>199.8855</td>\n",
       "    </tr>\n",
       "    <tr>\n",
       "      <th>2019-03-01</th>\n",
       "      <td>115.6943</td>\n",
       "      <td>199.1186</td>\n",
       "    </tr>\n",
       "    <tr>\n",
       "      <th>2019-04-01</th>\n",
       "      <td>115.6329</td>\n",
       "      <td>199.0129</td>\n",
       "    </tr>\n",
       "    <tr>\n",
       "      <th>2019-05-01</th>\n",
       "      <td>115.9667</td>\n",
       "      <td>199.5873</td>\n",
       "    </tr>\n",
       "    <tr>\n",
       "      <th>...</th>\n",
       "      <td>...</td>\n",
       "      <td>...</td>\n",
       "    </tr>\n",
       "    <tr>\n",
       "      <th>2024-01-01</th>\n",
       "      <td>217.3116</td>\n",
       "      <td>327.2725</td>\n",
       "    </tr>\n",
       "    <tr>\n",
       "      <th>2024-02-01</th>\n",
       "      <td>217.1068</td>\n",
       "      <td>326.9641</td>\n",
       "    </tr>\n",
       "    <tr>\n",
       "      <th>2024-03-01</th>\n",
       "      <td>216.4849</td>\n",
       "      <td>326.0275</td>\n",
       "    </tr>\n",
       "    <tr>\n",
       "      <th>2024-04-01</th>\n",
       "      <td>216.0482</td>\n",
       "      <td>325.3698</td>\n",
       "    </tr>\n",
       "    <tr>\n",
       "      <th>2024-05-01</th>\n",
       "      <td>216.4494</td>\n",
       "      <td>325.9740</td>\n",
       "    </tr>\n",
       "  </tbody>\n",
       "</table>\n",
       "<p>65 rows × 2 columns</p>\n",
       "</div>"
      ],
      "text/plain": [
       "             SL11297   SL11296\n",
       "date                          \n",
       "2019-01-01  116.1072  199.8293\n",
       "2019-02-01  116.1399  199.8855\n",
       "2019-03-01  115.6943  199.1186\n",
       "2019-04-01  115.6329  199.0129\n",
       "2019-05-01  115.9667  199.5873\n",
       "...              ...       ...\n",
       "2024-01-01  217.3116  327.2725\n",
       "2024-02-01  217.1068  326.9641\n",
       "2024-03-01  216.4849  326.0275\n",
       "2024-04-01  216.0482  325.3698\n",
       "2024-05-01  216.4494  325.9740\n",
       "\n",
       "[65 rows x 2 columns]"
      ]
     },
     "execution_count": 66,
     "metadata": {},
     "output_type": "execute_result"
    }
   ],
   "source": [
    "dict_df = {}\n",
    "for serie in series_data['bmx']['series']:\n",
    "    df = pd.DataFrame(serie['datos'])\n",
    "    df['date'] = pd.to_datetime(df['fecha'], format='%d/%m/%Y')\n",
    "    df.set_index('date', inplace=True)\n",
    "    df.drop(columns=['fecha'], inplace=True)\n",
    "    df.index = df.index.strftime('%Y-%m-%d')\n",
    "    df = df.rename(columns={'dato': serie['idSerie']})\n",
    "    dict_df[serie['idSerie']] = df\n",
    "\n",
    "# join dataframes by index\n",
    "df = pd.concat(dict_df.values(), axis=1)\n",
    "\n",
    "# index to DateTimeIndex\n",
    "df.index = pd.to_datetime(df.index)\n",
    "\n",
    "# see df\n",
    "df"
   ]
  },
  {
   "cell_type": "markdown",
   "metadata": {},
   "source": [
    "---\n",
    "# Sandbox"
   ]
  },
  {
   "cell_type": "code",
   "execution_count": 31,
   "metadata": {},
   "outputs": [
    {
     "name": "stdout",
     "output_type": "stream",
     "text": [
      "\u001b[0;31mSignature:\u001b[0m\n",
      "\u001b[0minegi_api\u001b[0m\u001b[0;34m.\u001b[0m\u001b[0mobtener_df\u001b[0m\u001b[0;34m(\u001b[0m\u001b[0;34m\u001b[0m\n",
      "\u001b[0;34m\u001b[0m    \u001b[0mindicadores\u001b[0m\u001b[0;34m:\u001b[0m \u001b[0;34m'str|list'\u001b[0m\u001b[0;34m,\u001b[0m\u001b[0;34m\u001b[0m\n",
      "\u001b[0;34m\u001b[0m    \u001b[0mnombres\u001b[0m\u001b[0;34m:\u001b[0m \u001b[0;34m'str|list'\u001b[0m \u001b[0;34m=\u001b[0m \u001b[0;32mNone\u001b[0m\u001b[0;34m,\u001b[0m\u001b[0;34m\u001b[0m\n",
      "\u001b[0;34m\u001b[0m    \u001b[0mclave_area\u001b[0m\u001b[0;34m:\u001b[0m \u001b[0mstr\u001b[0m \u001b[0;34m=\u001b[0m \u001b[0;34m'00'\u001b[0m\u001b[0;34m,\u001b[0m\u001b[0;34m\u001b[0m\n",
      "\u001b[0;34m\u001b[0m    \u001b[0minicio\u001b[0m\u001b[0;34m:\u001b[0m \u001b[0mstr\u001b[0m \u001b[0;34m=\u001b[0m \u001b[0;32mNone\u001b[0m\u001b[0;34m,\u001b[0m\u001b[0;34m\u001b[0m\n",
      "\u001b[0;34m\u001b[0m    \u001b[0mfin\u001b[0m\u001b[0;34m:\u001b[0m \u001b[0mstr\u001b[0m \u001b[0;34m=\u001b[0m \u001b[0;32mNone\u001b[0m\u001b[0;34m,\u001b[0m\u001b[0;34m\u001b[0m\n",
      "\u001b[0;34m\u001b[0m    \u001b[0mbanco\u001b[0m\u001b[0;34m:\u001b[0m \u001b[0mstr\u001b[0m \u001b[0;34m=\u001b[0m \u001b[0;32mNone\u001b[0m\u001b[0;34m,\u001b[0m\u001b[0;34m\u001b[0m\n",
      "\u001b[0;34m\u001b[0m    \u001b[0mmetadatos\u001b[0m\u001b[0;34m:\u001b[0m \u001b[0mbool\u001b[0m \u001b[0;34m=\u001b[0m \u001b[0;32mFalse\u001b[0m\u001b[0;34m,\u001b[0m\u001b[0;34m\u001b[0m\n",
      "\u001b[0;34m\u001b[0m\u001b[0;34m)\u001b[0m\u001b[0;34m\u001b[0m\u001b[0;34m\u001b[0m\u001b[0m\n",
      "\u001b[0;31mDocstring:\u001b[0m\n",
      "Regresa un DataFrame con la información de los indicadores proporcionada por el API del INEGI.\n",
      "\n",
      "Parametros\n",
      "-----------\n",
      "indicadores: str/list. Clave(s) de los indicadores a consultar.\n",
      "nombres: list/str, opcional. Nombre(s) de las columas del DataFrame. De no proporcionarse, se usarán los indicadores.\n",
      "clave_area: str. Clave de dos a cinco caracteres que indentifica el área geográfica de acuerdo con el Marco Geoestadístico. Para definir el total nacional se especifica '00'. Este campo solo aplica para los indicadores del Bando de Indicadores (BISE), no aplica para los del Banco de Información Económica (BIE).\n",
      "                            Dos dígitos para incluir nivel estatal (ej.01 a 32).\n",
      "                            Cinco dígitos dígitos para incluir nivel municipal (ej. 01001).\n",
      "inicio: str, opcional. Fecha donde iniciar la serie. De no proporcionarse será desde el primer valor disponible. \n",
      "fin: str, opcional. Fecha donde terminar la serie. De no proporcionarse será hasta el último valor disponible.\n",
      "banco: str, opcional. ['BIE' | 'BISE'] Define el banco al cual pertenecen los indicadores. Puede ser el Banco de Indicadores Económicos (BISE) o el Banco de Información Económica (BIE). Ya que solamente tres claves de indicadores se encuentran en ambos bancos y el resto son diferentes, no es necesario definir este parámetro a menos que los indicadores a consultar sea alguno de los siguientes: ['539260', '539261', '539262'].\n",
      "metadatos: bool. En caso se ser verdadero regresa un DataFrame con los metadatos de los indicadores.\n",
      "----------\n",
      "\n",
      "El DataFrame resultante tiene una columna por cada indicador y un DateTimeIndex con la fecha de los valores. \n",
      "\n",
      "Para más información visitar https://www.inegi.org.mx/servicios/api_indicadores.html\n",
      "\u001b[0;31mFile:\u001b[0m      ~/opt/anaconda3/envs/mds-research-stay/lib/python3.10/site-packages/INEGIpy/_indicadores.py\n",
      "\u001b[0;31mType:\u001b[0m      method"
     ]
    }
   ],
   "source": [
    "?inegi_api.obtener_df"
   ]
  }
 ],
 "metadata": {
  "kernelspec": {
   "display_name": "mds-research-stay",
   "language": "python",
   "name": "python3"
  },
  "language_info": {
   "codemirror_mode": {
    "name": "ipython",
    "version": 3
   },
   "file_extension": ".py",
   "mimetype": "text/x-python",
   "name": "python",
   "nbconvert_exporter": "python",
   "pygments_lexer": "ipython3",
   "version": "3.10.14"
  }
 },
 "nbformat": 4,
 "nbformat_minor": 2
}
